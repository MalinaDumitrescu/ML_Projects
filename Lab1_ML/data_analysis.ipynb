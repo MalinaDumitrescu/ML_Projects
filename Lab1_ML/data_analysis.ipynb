{
 "cells": [
  {
   "cell_type": "code",
   "id": "initial_id",
   "metadata": {
    "collapsed": true,
    "ExecuteTime": {
     "end_time": "2025-10-14T19:29:45.827943Z",
     "start_time": "2025-10-14T19:29:45.781865Z"
    }
   },
   "source": [
    "import pandas as pd\n",
    "import matplotlib.pyplot as plt\n",
    "import numpy as np\n",
    "\n",
    "df = pd.read_csv(\"AmesHousing.csv\", sep='\\t')\n",
    "pd.options.future.infer_string = True\n",
    "print(df.head())"
   ],
   "outputs": [
    {
     "name": "stdout",
     "output_type": "stream",
     "text": [
      "   Order        PID  MS SubClass MS Zoning  Lot Frontage  Lot Area Street  \\\n",
      "0      1  526301100           20        RL         141.0     31770   Pave   \n",
      "1      2  526350040           20        RH          80.0     11622   Pave   \n",
      "2      3  526351010           20        RL          81.0     14267   Pave   \n",
      "3      4  526353030           20        RL          93.0     11160   Pave   \n",
      "4      5  527105010           60        RL          74.0     13830   Pave   \n",
      "\n",
      "  Alley Lot Shape Land Contour  ... Pool Area Pool QC  Fence Misc Feature  \\\n",
      "0   NaN       IR1          Lvl  ...         0     NaN    NaN          NaN   \n",
      "1   NaN       Reg          Lvl  ...         0     NaN  MnPrv          NaN   \n",
      "2   NaN       IR1          Lvl  ...         0     NaN    NaN         Gar2   \n",
      "3   NaN       Reg          Lvl  ...         0     NaN    NaN          NaN   \n",
      "4   NaN       IR1          Lvl  ...         0     NaN  MnPrv          NaN   \n",
      "\n",
      "  Misc Val Mo Sold Yr Sold Sale Type  Sale Condition  SalePrice  \n",
      "0        0       5    2010       WD           Normal     215000  \n",
      "1        0       6    2010       WD           Normal     105000  \n",
      "2    12500       6    2010       WD           Normal     172000  \n",
      "3        0       4    2010       WD           Normal     244000  \n",
      "4        0       3    2010       WD           Normal     189900  \n",
      "\n",
      "[5 rows x 82 columns]\n"
     ]
    }
   ],
   "execution_count": 73
  },
  {
   "metadata": {
    "ExecuteTime": {
     "end_time": "2025-10-14T19:30:05.808873Z",
     "start_time": "2025-10-14T19:30:05.791370Z"
    }
   },
   "cell_type": "code",
   "source": "df.info()",
   "id": "827d6452d13d8855",
   "outputs": [
    {
     "name": "stdout",
     "output_type": "stream",
     "text": [
      "<class 'pandas.core.frame.DataFrame'>\n",
      "RangeIndex: 2930 entries, 0 to 2929\n",
      "Data columns (total 82 columns):\n",
      " #   Column           Non-Null Count  Dtype  \n",
      "---  ------           --------------  -----  \n",
      " 0   Order            2930 non-null   int64  \n",
      " 1   PID              2930 non-null   int64  \n",
      " 2   MS SubClass      2930 non-null   int64  \n",
      " 3   MS Zoning        2930 non-null   str    \n",
      " 4   Lot Frontage     2440 non-null   float64\n",
      " 5   Lot Area         2930 non-null   int64  \n",
      " 6   Street           2930 non-null   str    \n",
      " 7   Alley            198 non-null    str    \n",
      " 8   Lot Shape        2930 non-null   str    \n",
      " 9   Land Contour     2930 non-null   str    \n",
      " 10  Utilities        2930 non-null   str    \n",
      " 11  Lot Config       2930 non-null   str    \n",
      " 12  Land Slope       2930 non-null   str    \n",
      " 13  Neighborhood     2930 non-null   str    \n",
      " 14  Condition 1      2930 non-null   str    \n",
      " 15  Condition 2      2930 non-null   str    \n",
      " 16  Bldg Type        2930 non-null   str    \n",
      " 17  House Style      2930 non-null   str    \n",
      " 18  Overall Qual     2930 non-null   int64  \n",
      " 19  Overall Cond     2930 non-null   int64  \n",
      " 20  Year Built       2930 non-null   int64  \n",
      " 21  Year Remod/Add   2930 non-null   int64  \n",
      " 22  Roof Style       2930 non-null   str    \n",
      " 23  Roof Matl        2930 non-null   str    \n",
      " 24  Exterior 1st     2930 non-null   str    \n",
      " 25  Exterior 2nd     2930 non-null   str    \n",
      " 26  Mas Vnr Type     1155 non-null   str    \n",
      " 27  Mas Vnr Area     2907 non-null   float64\n",
      " 28  Exter Qual       2930 non-null   str    \n",
      " 29  Exter Cond       2930 non-null   str    \n",
      " 30  Foundation       2930 non-null   str    \n",
      " 31  Bsmt Qual        2850 non-null   str    \n",
      " 32  Bsmt Cond        2850 non-null   str    \n",
      " 33  Bsmt Exposure    2847 non-null   str    \n",
      " 34  BsmtFin Type 1   2850 non-null   str    \n",
      " 35  BsmtFin SF 1     2929 non-null   float64\n",
      " 36  BsmtFin Type 2   2849 non-null   str    \n",
      " 37  BsmtFin SF 2     2929 non-null   float64\n",
      " 38  Bsmt Unf SF      2929 non-null   float64\n",
      " 39  Total Bsmt SF    2929 non-null   float64\n",
      " 40  Heating          2930 non-null   str    \n",
      " 41  Heating QC       2930 non-null   str    \n",
      " 42  Central Air      2930 non-null   str    \n",
      " 43  Electrical       2929 non-null   str    \n",
      " 44  1st Flr SF       2930 non-null   int64  \n",
      " 45  2nd Flr SF       2930 non-null   int64  \n",
      " 46  Low Qual Fin SF  2930 non-null   int64  \n",
      " 47  Gr Liv Area      2930 non-null   int64  \n",
      " 48  Bsmt Full Bath   2928 non-null   float64\n",
      " 49  Bsmt Half Bath   2928 non-null   float64\n",
      " 50  Full Bath        2930 non-null   int64  \n",
      " 51  Half Bath        2930 non-null   int64  \n",
      " 52  Bedroom AbvGr    2930 non-null   int64  \n",
      " 53  Kitchen AbvGr    2930 non-null   int64  \n",
      " 54  Kitchen Qual     2930 non-null   str    \n",
      " 55  TotRms AbvGrd    2930 non-null   int64  \n",
      " 56  Functional       2930 non-null   str    \n",
      " 57  Fireplaces       2930 non-null   int64  \n",
      " 58  Fireplace Qu     1508 non-null   str    \n",
      " 59  Garage Type      2773 non-null   str    \n",
      " 60  Garage Yr Blt    2771 non-null   float64\n",
      " 61  Garage Finish    2771 non-null   str    \n",
      " 62  Garage Cars      2929 non-null   float64\n",
      " 63  Garage Area      2929 non-null   float64\n",
      " 64  Garage Qual      2771 non-null   str    \n",
      " 65  Garage Cond      2771 non-null   str    \n",
      " 66  Paved Drive      2930 non-null   str    \n",
      " 67  Wood Deck SF     2930 non-null   int64  \n",
      " 68  Open Porch SF    2930 non-null   int64  \n",
      " 69  Enclosed Porch   2930 non-null   int64  \n",
      " 70  3Ssn Porch       2930 non-null   int64  \n",
      " 71  Screen Porch     2930 non-null   int64  \n",
      " 72  Pool Area        2930 non-null   int64  \n",
      " 73  Pool QC          13 non-null     str    \n",
      " 74  Fence            572 non-null    str    \n",
      " 75  Misc Feature     106 non-null    str    \n",
      " 76  Misc Val         2930 non-null   int64  \n",
      " 77  Mo Sold          2930 non-null   int64  \n",
      " 78  Yr Sold          2930 non-null   int64  \n",
      " 79  Sale Type        2930 non-null   str    \n",
      " 80  Sale Condition   2930 non-null   str    \n",
      " 81  SalePrice        2930 non-null   int64  \n",
      "dtypes: float64(11), int64(28), str(43)\n",
      "memory usage: 1.8 MB\n"
     ]
    }
   ],
   "execution_count": 74
  },
  {
   "metadata": {
    "ExecuteTime": {
     "end_time": "2025-10-14T19:30:21.333452Z",
     "start_time": "2025-10-14T19:30:21.323393Z"
    }
   },
   "cell_type": "code",
   "source": "df.dtypes.value_counts()",
   "id": "b72f7825e6f837e7",
   "outputs": [
    {
     "data": {
      "text/plain": [
       "str        43\n",
       "int64      28\n",
       "float64    11\n",
       "Name: count, dtype: int64"
      ]
     },
     "execution_count": 75,
     "metadata": {},
     "output_type": "execute_result"
    }
   ],
   "execution_count": 75
  },
  {
   "metadata": {
    "ExecuteTime": {
     "end_time": "2025-10-14T19:32:16.229243Z",
     "start_time": "2025-10-14T19:32:16.207113Z"
    }
   },
   "cell_type": "code",
   "source": "df.duplicated().any()",
   "id": "573b60eb6905e1ee",
   "outputs": [
    {
     "data": {
      "text/plain": [
       "np.False_"
      ]
     },
     "execution_count": 79,
     "metadata": {},
     "output_type": "execute_result"
    }
   ],
   "execution_count": 79
  },
  {
   "metadata": {
    "ExecuteTime": {
     "end_time": "2025-10-14T19:32:19.091375Z",
     "start_time": "2025-10-14T19:32:19.076240Z"
    }
   },
   "cell_type": "code",
   "source": [
    "# check number of missing values per feature\n",
    "missing = df.isnull().sum().sort_values(ascending=False).head(30)\n",
    "print(missing)"
   ],
   "id": "fa29f86c22307e57",
   "outputs": [
    {
     "name": "stdout",
     "output_type": "stream",
     "text": [
      "Pool QC           2917\n",
      "Misc Feature      2824\n",
      "Alley             2732\n",
      "Fence             2358\n",
      "Mas Vnr Type      1775\n",
      "Fireplace Qu      1422\n",
      "Lot Frontage       490\n",
      "Garage Qual        159\n",
      "Garage Yr Blt      159\n",
      "Garage Cond        159\n",
      "Garage Finish      159\n",
      "Garage Type        157\n",
      "Bsmt Exposure       83\n",
      "BsmtFin Type 2      81\n",
      "Bsmt Qual           80\n",
      "Bsmt Cond           80\n",
      "BsmtFin Type 1      80\n",
      "Mas Vnr Area        23\n",
      "Bsmt Full Bath       2\n",
      "Bsmt Half Bath       2\n",
      "Total Bsmt SF        1\n",
      "BsmtFin SF 1         1\n",
      "BsmtFin SF 2         1\n",
      "Garage Area          1\n",
      "Garage Cars          1\n",
      "Bsmt Unf SF          1\n",
      "Electrical           1\n",
      "Lot Shape            0\n",
      "Street               0\n",
      "Lot Area             0\n",
      "dtype: int64\n"
     ]
    }
   ],
   "execution_count": 80
  },
  {
   "metadata": {
    "ExecuteTime": {
     "end_time": "2025-10-14T19:33:04.781617Z",
     "start_time": "2025-10-14T19:33:04.774803Z"
    }
   },
   "cell_type": "code",
   "source": "print(df.columns)",
   "id": "d92bc4c5ddaae45",
   "outputs": [
    {
     "name": "stdout",
     "output_type": "stream",
     "text": [
      "Index(['Order', 'PID', 'MS SubClass', 'MS Zoning', 'Lot Frontage', 'Lot Area',\n",
      "       'Street', 'Alley', 'Lot Shape', 'Land Contour', 'Utilities',\n",
      "       'Lot Config', 'Land Slope', 'Neighborhood', 'Condition 1',\n",
      "       'Condition 2', 'Bldg Type', 'House Style', 'Overall Qual',\n",
      "       'Overall Cond', 'Year Built', 'Year Remod/Add', 'Roof Style',\n",
      "       'Roof Matl', 'Exterior 1st', 'Exterior 2nd', 'Mas Vnr Type',\n",
      "       'Mas Vnr Area', 'Exter Qual', 'Exter Cond', 'Foundation', 'Bsmt Qual',\n",
      "       'Bsmt Cond', 'Bsmt Exposure', 'BsmtFin Type 1', 'BsmtFin SF 1',\n",
      "       'BsmtFin Type 2', 'BsmtFin SF 2', 'Bsmt Unf SF', 'Total Bsmt SF',\n",
      "       'Heating', 'Heating QC', 'Central Air', 'Electrical', '1st Flr SF',\n",
      "       '2nd Flr SF', 'Low Qual Fin SF', 'Gr Liv Area', 'Bsmt Full Bath',\n",
      "       'Bsmt Half Bath', 'Full Bath', 'Half Bath', 'Bedroom AbvGr',\n",
      "       'Kitchen AbvGr', 'Kitchen Qual', 'TotRms AbvGrd', 'Functional',\n",
      "       'Fireplaces', 'Fireplace Qu', 'Garage Type', 'Garage Yr Blt',\n",
      "       'Garage Finish', 'Garage Cars', 'Garage Area', 'Garage Qual',\n",
      "       'Garage Cond', 'Paved Drive', 'Wood Deck SF', 'Open Porch SF',\n",
      "       'Enclosed Porch', '3Ssn Porch', 'Screen Porch', 'Pool Area', 'Pool QC',\n",
      "       'Fence', 'Misc Feature', 'Misc Val', 'Mo Sold', 'Yr Sold', 'Sale Type',\n",
      "       'Sale Condition', 'SalePrice'],\n",
      "      dtype='str')\n"
     ]
    }
   ],
   "execution_count": 81
  },
  {
   "metadata": {
    "ExecuteTime": {
     "end_time": "2025-10-14T19:34:34.336855Z",
     "start_time": "2025-10-14T19:34:34.327741Z"
    }
   },
   "cell_type": "code",
   "source": "df.dtypes",
   "id": "13de02bfc209b7c5",
   "outputs": [
    {
     "data": {
      "text/plain": [
       "Order               int64\n",
       "PID                 int64\n",
       "MS SubClass         int64\n",
       "MS Zoning             str\n",
       "Lot Frontage      float64\n",
       "                   ...   \n",
       "Mo Sold             int64\n",
       "Yr Sold             int64\n",
       "Sale Type             str\n",
       "Sale Condition        str\n",
       "SalePrice           int64\n",
       "Length: 82, dtype: object"
      ]
     },
     "execution_count": 82,
     "metadata": {},
     "output_type": "execute_result"
    }
   ],
   "execution_count": 82
  },
  {
   "metadata": {
    "ExecuteTime": {
     "end_time": "2025-10-14T19:35:38.569560Z",
     "start_time": "2025-10-14T19:35:38.559859Z"
    }
   },
   "cell_type": "code",
   "source": "df.select_dtypes(include='object').columns",
   "id": "ce15f7d0dc09470f",
   "outputs": [
    {
     "data": {
      "text/plain": [
       "Index(['MS Zoning', 'Street', 'Alley', 'Lot Shape', 'Land Contour',\n",
       "       'Utilities', 'Lot Config', 'Land Slope', 'Neighborhood', 'Condition 1',\n",
       "       'Condition 2', 'Bldg Type', 'House Style', 'Roof Style', 'Roof Matl',\n",
       "       'Exterior 1st', 'Exterior 2nd', 'Mas Vnr Type', 'Exter Qual',\n",
       "       'Exter Cond', 'Foundation', 'Bsmt Qual', 'Bsmt Cond', 'Bsmt Exposure',\n",
       "       'BsmtFin Type 1', 'BsmtFin Type 2', 'Heating', 'Heating QC',\n",
       "       'Central Air', 'Electrical', 'Kitchen Qual', 'Functional',\n",
       "       'Fireplace Qu', 'Garage Type', 'Garage Finish', 'Garage Qual',\n",
       "       'Garage Cond', 'Paved Drive', 'Pool QC', 'Fence', 'Misc Feature',\n",
       "       'Sale Type', 'Sale Condition'],\n",
       "      dtype='str')"
      ]
     },
     "execution_count": 85,
     "metadata": {},
     "output_type": "execute_result"
    }
   ],
   "execution_count": 85
  },
  {
   "metadata": {
    "ExecuteTime": {
     "end_time": "2025-10-14T19:35:48.018467Z",
     "start_time": "2025-10-14T19:35:48.010423Z"
    }
   },
   "cell_type": "code",
   "source": "df.select_dtypes(include='int64').columns",
   "id": "6b37aa3c54ee831e",
   "outputs": [
    {
     "data": {
      "text/plain": [
       "Index(['Order', 'PID', 'MS SubClass', 'Lot Area', 'Overall Qual',\n",
       "       'Overall Cond', 'Year Built', 'Year Remod/Add', '1st Flr SF',\n",
       "       '2nd Flr SF', 'Low Qual Fin SF', 'Gr Liv Area', 'Full Bath',\n",
       "       'Half Bath', 'Bedroom AbvGr', 'Kitchen AbvGr', 'TotRms AbvGrd',\n",
       "       'Fireplaces', 'Wood Deck SF', 'Open Porch SF', 'Enclosed Porch',\n",
       "       '3Ssn Porch', 'Screen Porch', 'Pool Area', 'Misc Val', 'Mo Sold',\n",
       "       'Yr Sold', 'SalePrice'],\n",
       "      dtype='str')"
      ]
     },
     "execution_count": 86,
     "metadata": {},
     "output_type": "execute_result"
    }
   ],
   "execution_count": 86
  },
  {
   "metadata": {
    "ExecuteTime": {
     "end_time": "2025-10-14T19:36:15.950598Z",
     "start_time": "2025-10-14T19:36:15.943189Z"
    }
   },
   "cell_type": "code",
   "source": "df.select_dtypes(include='float64').columns",
   "id": "162c0d74b64bc52",
   "outputs": [
    {
     "data": {
      "text/plain": [
       "Index(['Lot Frontage', 'Mas Vnr Area', 'BsmtFin SF 1', 'BsmtFin SF 2',\n",
       "       'Bsmt Unf SF', 'Total Bsmt SF', 'Bsmt Full Bath', 'Bsmt Half Bath',\n",
       "       'Garage Yr Blt', 'Garage Cars', 'Garage Area'],\n",
       "      dtype='str')"
      ]
     },
     "execution_count": 87,
     "metadata": {},
     "output_type": "execute_result"
    }
   ],
   "execution_count": 87
  },
  {
   "metadata": {},
   "cell_type": "markdown",
   "source": [
    " NA values in categorical columns that actually mean 'No <feature>'\n",
    "\n",
    " 'Alley','Bsmt Qual', 'Bsmt Cond', 'Bsmt Exposure', 'BsmtFin Type 1', 'BsmtFin Type 2','Fireplace Qu','Garage Type', 'Garage Finish', 'Garage Qual', 'Garage Cond','Pool QC', 'Fence', 'Misc Feature'"
   ],
   "id": "f6c702da68df82e6"
  },
  {
   "metadata": {
    "ExecuteTime": {
     "end_time": "2025-10-14T19:39:57.151024Z",
     "start_time": "2025-10-14T19:39:57.140420Z"
    }
   },
   "cell_type": "code",
   "source": [
    "df['Alley'] = df['Alley'].replace('NA', 'NoAlley').fillna('NoAlley')\n",
    "df['Alley'].isna().sum()\n",
    "df['Alley'].value_counts(dropna=False)"
   ],
   "id": "aa51372f15d18d0d",
   "outputs": [
    {
     "data": {
      "text/plain": [
       "Alley\n",
       "NoAlley    2732\n",
       "Grvl        120\n",
       "Pave         78\n",
       "Name: count, dtype: int64"
      ]
     },
     "execution_count": 92,
     "metadata": {},
     "output_type": "execute_result"
    }
   ],
   "execution_count": 92
  },
  {
   "metadata": {
    "ExecuteTime": {
     "end_time": "2025-10-14T19:40:06.559462Z",
     "start_time": "2025-10-14T19:40:06.548694Z"
    }
   },
   "cell_type": "code",
   "source": [
    "df['Bsmt Qual'] = df['Bsmt Qual'].replace('NA', 'NoBasement').fillna('NoBasement')\n",
    "df['Bsmt Qual'].isna().sum()\n",
    "df['Bsmt Qual'].value_counts(dropna=False)"
   ],
   "id": "fd0d3a4f1f579040",
   "outputs": [
    {
     "data": {
      "text/plain": [
       "Bsmt Qual\n",
       "TA            1283\n",
       "Gd            1219\n",
       "Ex             258\n",
       "Fa              88\n",
       "NoBasement      80\n",
       "Po               2\n",
       "Name: count, dtype: int64"
      ]
     },
     "execution_count": 93,
     "metadata": {},
     "output_type": "execute_result"
    }
   ],
   "execution_count": 93
  },
  {
   "metadata": {
    "ExecuteTime": {
     "end_time": "2025-10-14T19:40:19.599911Z",
     "start_time": "2025-10-14T19:40:19.587592Z"
    }
   },
   "cell_type": "code",
   "source": [
    "df['Bsmt Cond'] = df['Bsmt Cond'].replace('NA', 'NoBasement').fillna('NoBasement')\n",
    "df['Bsmt Cond'].isna().sum()\n",
    "df['Bsmt Cond'].value_counts(dropna=False)"
   ],
   "id": "53e042874ed0b834",
   "outputs": [
    {
     "data": {
      "text/plain": [
       "Bsmt Cond\n",
       "TA            2616\n",
       "Gd             122\n",
       "Fa             104\n",
       "NoBasement      80\n",
       "Po               5\n",
       "Ex               3\n",
       "Name: count, dtype: int64"
      ]
     },
     "execution_count": 94,
     "metadata": {},
     "output_type": "execute_result"
    }
   ],
   "execution_count": 94
  },
  {
   "metadata": {
    "ExecuteTime": {
     "end_time": "2025-10-14T19:40:30.671589Z",
     "start_time": "2025-10-14T19:40:30.660020Z"
    }
   },
   "cell_type": "code",
   "source": [
    "df['Bsmt Exposure'] = df['Bsmt Exposure'].replace('NA', 'NoBasement').fillna('NoBasement')\n",
    "df['Bsmt Exposure'].isna().sum()\n",
    "df['Bsmt Exposure'].value_counts(dropna=False)"
   ],
   "id": "4e4f6e0c80420609",
   "outputs": [
    {
     "data": {
      "text/plain": [
       "Bsmt Exposure\n",
       "No            1906\n",
       "Av             418\n",
       "Gd             284\n",
       "Mn             239\n",
       "NoBasement      83\n",
       "Name: count, dtype: int64"
      ]
     },
     "execution_count": 95,
     "metadata": {},
     "output_type": "execute_result"
    }
   ],
   "execution_count": 95
  },
  {
   "metadata": {
    "ExecuteTime": {
     "end_time": "2025-10-14T19:40:52.086991Z",
     "start_time": "2025-10-14T19:40:52.072409Z"
    }
   },
   "cell_type": "code",
   "source": [
    "df['BsmtFin Type 1'] = df['BsmtFin Type 1'].replace('NA', 'NoBasement').fillna('NoBasement')\n",
    "df['BsmtFin Type 1'].isna().sum()\n",
    "df['BsmtFin Type 1'].value_counts(dropna=False)"
   ],
   "id": "a8248a2cfe791a97",
   "outputs": [
    {
     "data": {
      "text/plain": [
       "BsmtFin Type 1\n",
       "GLQ           859\n",
       "Unf           851\n",
       "ALQ           429\n",
       "Rec           288\n",
       "BLQ           269\n",
       "LwQ           154\n",
       "NoBasement     80\n",
       "Name: count, dtype: int64"
      ]
     },
     "execution_count": 96,
     "metadata": {},
     "output_type": "execute_result"
    }
   ],
   "execution_count": 96
  },
  {
   "metadata": {
    "ExecuteTime": {
     "end_time": "2025-10-14T19:41:04.164940Z",
     "start_time": "2025-10-14T19:41:04.155205Z"
    }
   },
   "cell_type": "code",
   "source": [
    "df['BsmtFin Type 2'] = df['BsmtFin Type 2'].replace('NA', 'NoBasement').fillna('NoBasement')\n",
    "df['BsmtFin Type 2'].isna().sum()\n",
    "df['BsmtFin Type 2'].value_counts(dropna=False)"
   ],
   "id": "c9c446ad481a59c3",
   "outputs": [
    {
     "data": {
      "text/plain": [
       "BsmtFin Type 2\n",
       "Unf           2499\n",
       "Rec            106\n",
       "LwQ             89\n",
       "NoBasement      81\n",
       "BLQ             68\n",
       "ALQ             53\n",
       "GLQ             34\n",
       "Name: count, dtype: int64"
      ]
     },
     "execution_count": 97,
     "metadata": {},
     "output_type": "execute_result"
    }
   ],
   "execution_count": 97
  },
  {
   "metadata": {
    "ExecuteTime": {
     "end_time": "2025-10-14T19:41:16.413533Z",
     "start_time": "2025-10-14T19:41:16.402215Z"
    }
   },
   "cell_type": "code",
   "source": [
    "df['Fireplace Qu'] = df['Fireplace Qu'].replace('NA', 'NoFireplace').fillna('NoFireplace')\n",
    "df['Fireplace Qu'].isna().sum()\n",
    "df['Fireplace Qu'].value_counts(dropna=False)"
   ],
   "id": "e13fb5d00fd3bb13",
   "outputs": [
    {
     "data": {
      "text/plain": [
       "Fireplace Qu\n",
       "NoFireplace    1422\n",
       "Gd              744\n",
       "TA              600\n",
       "Fa               75\n",
       "Po               46\n",
       "Ex               43\n",
       "Name: count, dtype: int64"
      ]
     },
     "execution_count": 98,
     "metadata": {},
     "output_type": "execute_result"
    }
   ],
   "execution_count": 98
  },
  {
   "metadata": {
    "ExecuteTime": {
     "end_time": "2025-10-14T19:41:25.599638Z",
     "start_time": "2025-10-14T19:41:25.589321Z"
    }
   },
   "cell_type": "code",
   "source": [
    "df['Garage Type'] = df['Garage Type'].replace('NA', 'NoGarage').fillna('NoGarage')\n",
    "df['Garage Type'].isna().sum()\n",
    "df['Garage Type'].value_counts(dropna=False)"
   ],
   "id": "eed5d88ee4d23c1c",
   "outputs": [
    {
     "data": {
      "text/plain": [
       "Garage Type\n",
       "Attchd      1731\n",
       "Detchd       782\n",
       "BuiltIn      186\n",
       "NoGarage     157\n",
       "Basment       36\n",
       "2Types        23\n",
       "CarPort       15\n",
       "Name: count, dtype: int64"
      ]
     },
     "execution_count": 99,
     "metadata": {},
     "output_type": "execute_result"
    }
   ],
   "execution_count": 99
  },
  {
   "metadata": {
    "ExecuteTime": {
     "end_time": "2025-10-14T19:41:36.210288Z",
     "start_time": "2025-10-14T19:41:36.199566Z"
    }
   },
   "cell_type": "code",
   "source": [
    "df['Garage Finish'] = df['Garage Finish'].replace('NA', 'NoGarage').fillna('NoGarage')\n",
    "df['Garage Finish'].isna().sum()\n",
    "df['Garage Finish'].value_counts(dropna=False)"
   ],
   "id": "f0c7318817f40ca1",
   "outputs": [
    {
     "data": {
      "text/plain": [
       "Garage Finish\n",
       "Unf         1231\n",
       "RFn          812\n",
       "Fin          728\n",
       "NoGarage     159\n",
       "Name: count, dtype: int64"
      ]
     },
     "execution_count": 100,
     "metadata": {},
     "output_type": "execute_result"
    }
   ],
   "execution_count": 100
  },
  {
   "metadata": {
    "ExecuteTime": {
     "end_time": "2025-10-14T19:41:49.319500Z",
     "start_time": "2025-10-14T19:41:49.309301Z"
    }
   },
   "cell_type": "code",
   "source": [
    "df['Garage Qual'] = df['Garage Qual'].replace('NA', 'NoGarage').fillna('NoGarage')\n",
    "df['Garage Qual'].isna().sum()\n",
    "df['Garage Qual'].value_counts(dropna=False)"
   ],
   "id": "1b19a6b056467209",
   "outputs": [
    {
     "data": {
      "text/plain": [
       "Garage Qual\n",
       "TA          2615\n",
       "NoGarage     159\n",
       "Fa           124\n",
       "Gd            24\n",
       "Po             5\n",
       "Ex             3\n",
       "Name: count, dtype: int64"
      ]
     },
     "execution_count": 101,
     "metadata": {},
     "output_type": "execute_result"
    }
   ],
   "execution_count": 101
  },
  {
   "metadata": {
    "ExecuteTime": {
     "end_time": "2025-10-14T19:42:01.405851Z",
     "start_time": "2025-10-14T19:42:01.396288Z"
    }
   },
   "cell_type": "code",
   "source": [
    "df['Garage Cond'] = df['Garage Cond'].replace('NA', 'NoGarage').fillna('NoGarage')\n",
    "df['Garage Cond'].isna().sum()\n",
    "df['Garage Cond'].value_counts(dropna=False)"
   ],
   "id": "c89a0ff4b9112f9",
   "outputs": [
    {
     "data": {
      "text/plain": [
       "Garage Cond\n",
       "TA          2665\n",
       "NoGarage     159\n",
       "Fa            74\n",
       "Gd            15\n",
       "Po            14\n",
       "Ex             3\n",
       "Name: count, dtype: int64"
      ]
     },
     "execution_count": 102,
     "metadata": {},
     "output_type": "execute_result"
    }
   ],
   "execution_count": 102
  },
  {
   "metadata": {
    "ExecuteTime": {
     "end_time": "2025-10-14T19:42:10.158420Z",
     "start_time": "2025-10-14T19:42:10.144215Z"
    }
   },
   "cell_type": "code",
   "source": [
    "df['Pool QC'] = df['Pool QC'].replace('NA', 'NoPool').fillna('NoPool')\n",
    "df['Pool QC'].isna().sum()\n",
    "df['Pool QC'].value_counts(dropna=False)"
   ],
   "id": "508c69b984762a68",
   "outputs": [
    {
     "data": {
      "text/plain": [
       "Pool QC\n",
       "NoPool    2917\n",
       "Ex           4\n",
       "Gd           4\n",
       "TA           3\n",
       "Fa           2\n",
       "Name: count, dtype: int64"
      ]
     },
     "execution_count": 103,
     "metadata": {},
     "output_type": "execute_result"
    }
   ],
   "execution_count": 103
  },
  {
   "metadata": {
    "ExecuteTime": {
     "end_time": "2025-10-14T19:42:18.563991Z",
     "start_time": "2025-10-14T19:42:18.551151Z"
    }
   },
   "cell_type": "code",
   "source": [
    "df['Fence'] = df['Fence'].replace('NA', 'NoFence').fillna('NoFence')\n",
    "df['Fence'].isna().sum()\n",
    "df['Fence'].value_counts(dropna=False)"
   ],
   "id": "4db937c9c743092b",
   "outputs": [
    {
     "data": {
      "text/plain": [
       "Fence\n",
       "NoFence    2358\n",
       "MnPrv       330\n",
       "GdPrv       118\n",
       "GdWo        112\n",
       "MnWw         12\n",
       "Name: count, dtype: int64"
      ]
     },
     "execution_count": 104,
     "metadata": {},
     "output_type": "execute_result"
    }
   ],
   "execution_count": 104
  },
  {
   "metadata": {
    "ExecuteTime": {
     "end_time": "2025-10-14T19:42:28.380008Z",
     "start_time": "2025-10-14T19:42:28.369855Z"
    }
   },
   "cell_type": "code",
   "source": [
    "df['Misc Feature'] = df['Misc Feature'].replace('NA', 'NoFeature').fillna('NoFeature')\n",
    "df['Misc Feature'].isna().sum()\n",
    "df['Misc Feature'].value_counts(dropna=False)"
   ],
   "id": "56c1fa607596f4b7",
   "outputs": [
    {
     "data": {
      "text/plain": [
       "Misc Feature\n",
       "NoFeature    2824\n",
       "Shed           95\n",
       "Gar2            5\n",
       "Othr            4\n",
       "Elev            1\n",
       "TenC            1\n",
       "Name: count, dtype: int64"
      ]
     },
     "execution_count": 105,
     "metadata": {},
     "output_type": "execute_result"
    }
   ],
   "execution_count": 105
  },
  {
   "metadata": {
    "ExecuteTime": {
     "end_time": "2025-10-14T19:42:42.127603Z",
     "start_time": "2025-10-14T19:42:41.996542Z"
    }
   },
   "cell_type": "code",
   "source": [
    "for col in df.columns:\n",
    "    print(f\"\\n=== {col} ===\")\n",
    "    print((df[col].value_counts(normalize=True, dropna=False) * 100).round(2))"
   ],
   "id": "5557a63b7dbe049d",
   "outputs": [
    {
     "name": "stdout",
     "output_type": "stream",
     "text": [
      "\n",
      "=== Order ===\n",
      "Order\n",
      "1       0.03\n",
      "2       0.03\n",
      "3       0.03\n",
      "4       0.03\n",
      "5       0.03\n",
      "        ... \n",
      "2926    0.03\n",
      "2927    0.03\n",
      "2928    0.03\n",
      "2929    0.03\n",
      "2930    0.03\n",
      "Name: proportion, Length: 2930, dtype: float64\n",
      "\n",
      "=== PID ===\n",
      "PID\n",
      "526301100    0.03\n",
      "526350040    0.03\n",
      "526351010    0.03\n",
      "526353030    0.03\n",
      "527105010    0.03\n",
      "             ... \n",
      "923275080    0.03\n",
      "923276100    0.03\n",
      "923400125    0.03\n",
      "924100070    0.03\n",
      "924151050    0.03\n",
      "Name: proportion, Length: 2930, dtype: float64\n",
      "\n",
      "=== MS SubClass ===\n",
      "MS SubClass\n",
      "20     36.83\n",
      "60     19.62\n",
      "50      9.80\n",
      "120     6.55\n",
      "30      4.74\n",
      "160     4.40\n",
      "70      4.37\n",
      "80      4.03\n",
      "90      3.72\n",
      "190     2.08\n",
      "85      1.64\n",
      "75      0.78\n",
      "45      0.61\n",
      "180     0.58\n",
      "40      0.20\n",
      "150     0.03\n",
      "Name: proportion, dtype: float64\n",
      "\n",
      "=== MS Zoning ===\n",
      "MS Zoning\n",
      "RL         77.58\n",
      "RM         15.77\n",
      "FV          4.74\n",
      "RH          0.92\n",
      "C (all)     0.85\n",
      "I (all)     0.07\n",
      "A (agr)     0.07\n",
      "Name: proportion, dtype: float64\n",
      "\n",
      "=== Lot Frontage ===\n",
      "Lot Frontage\n",
      "NaN      16.72\n",
      "60.0      9.42\n",
      "80.0      4.68\n",
      "70.0      4.54\n",
      "50.0      3.99\n",
      "         ...  \n",
      "168.0     0.03\n",
      "111.0     0.03\n",
      "131.0     0.03\n",
      "153.0     0.03\n",
      "133.0     0.03\n",
      "Name: proportion, Length: 129, dtype: float64\n",
      "\n",
      "=== Lot Area ===\n",
      "Lot Area\n",
      "9600     1.50\n",
      "7200     1.47\n",
      "6000     1.16\n",
      "9000     0.99\n",
      "10800    0.85\n",
      "         ... \n",
      "16381    0.03\n",
      "8534     0.03\n",
      "7030     0.03\n",
      "8765     0.03\n",
      "5005     0.03\n",
      "Name: proportion, Length: 1960, dtype: float64\n",
      "\n",
      "=== Street ===\n",
      "Street\n",
      "Pave    99.59\n",
      "Grvl     0.41\n",
      "Name: proportion, dtype: float64\n",
      "\n",
      "=== Alley ===\n",
      "Alley\n",
      "NoAlley    93.24\n",
      "Grvl        4.10\n",
      "Pave        2.66\n",
      "Name: proportion, dtype: float64\n",
      "\n",
      "=== Lot Shape ===\n",
      "Lot Shape\n",
      "Reg    63.45\n",
      "IR1    33.41\n",
      "IR2     2.59\n",
      "IR3     0.55\n",
      "Name: proportion, dtype: float64\n",
      "\n",
      "=== Land Contour ===\n",
      "Land Contour\n",
      "Lvl    89.86\n",
      "HLS     4.10\n",
      "Bnk     3.99\n",
      "Low     2.05\n",
      "Name: proportion, dtype: float64\n",
      "\n",
      "=== Utilities ===\n",
      "Utilities\n",
      "AllPub    99.90\n",
      "NoSewr     0.07\n",
      "NoSeWa     0.03\n",
      "Name: proportion, dtype: float64\n",
      "\n",
      "=== Lot Config ===\n",
      "Lot Config\n",
      "Inside     73.04\n",
      "Corner     17.44\n",
      "CulDSac     6.14\n",
      "FR2         2.90\n",
      "FR3         0.48\n",
      "Name: proportion, dtype: float64\n",
      "\n",
      "=== Land Slope ===\n",
      "Land Slope\n",
      "Gtl    95.19\n",
      "Mod     4.27\n",
      "Sev     0.55\n",
      "Name: proportion, dtype: float64\n",
      "\n",
      "=== Neighborhood ===\n",
      "Neighborhood\n",
      "NAmes      15.12\n",
      "CollgCr     9.11\n",
      "OldTown     8.16\n",
      "Edwards     6.62\n",
      "Somerst     6.21\n",
      "NridgHt     5.67\n",
      "Gilbert     5.63\n",
      "Sawyer      5.15\n",
      "NWAmes      4.47\n",
      "SawyerW     4.27\n",
      "Mitchel     3.89\n",
      "BrkSide     3.69\n",
      "Crawfor     3.52\n",
      "IDOTRR      3.17\n",
      "Timber      2.46\n",
      "NoRidge     2.42\n",
      "StoneBr     1.74\n",
      "SWISU       1.64\n",
      "ClearCr     1.50\n",
      "MeadowV     1.26\n",
      "BrDale      1.02\n",
      "Blmngtn     0.96\n",
      "Veenker     0.82\n",
      "NPkVill     0.78\n",
      "Blueste     0.34\n",
      "Greens      0.27\n",
      "GrnHill     0.07\n",
      "Landmrk     0.03\n",
      "Name: proportion, dtype: float64\n",
      "\n",
      "=== Condition 1 ===\n",
      "Condition 1\n",
      "Norm      86.08\n",
      "Feedr      5.60\n",
      "Artery     3.14\n",
      "RRAn       1.71\n",
      "PosN       1.33\n",
      "RRAe       0.96\n",
      "PosA       0.68\n",
      "RRNn       0.31\n",
      "RRNe       0.20\n",
      "Name: proportion, dtype: float64\n",
      "\n",
      "=== Condition 2 ===\n",
      "Condition 2\n",
      "Norm      98.98\n",
      "Feedr      0.44\n",
      "Artery     0.17\n",
      "PosA       0.14\n",
      "PosN       0.14\n",
      "RRNn       0.07\n",
      "RRAe       0.03\n",
      "RRAn       0.03\n",
      "Name: proportion, dtype: float64\n",
      "\n",
      "=== Bldg Type ===\n",
      "Bldg Type\n",
      "1Fam      82.76\n",
      "TwnhsE     7.95\n",
      "Duplex     3.72\n",
      "Twnhs      3.45\n",
      "2fmCon     2.12\n",
      "Name: proportion, dtype: float64\n",
      "\n",
      "=== House Style ===\n",
      "House Style\n",
      "1Story    50.55\n",
      "2Story    29.80\n",
      "1.5Fin    10.72\n",
      "SLvl       4.37\n",
      "SFoyer     2.83\n",
      "2.5Unf     0.82\n",
      "1.5Unf     0.65\n",
      "2.5Fin     0.27\n",
      "Name: proportion, dtype: float64\n",
      "\n",
      "=== Overall Qual ===\n",
      "Overall Qual\n",
      "5     28.16\n",
      "6     24.98\n",
      "7     20.55\n",
      "8     11.95\n",
      "4      7.71\n",
      "9      3.65\n",
      "3      1.37\n",
      "10     1.06\n",
      "2      0.44\n",
      "1      0.14\n",
      "Name: proportion, dtype: float64\n",
      "\n",
      "=== Overall Cond ===\n",
      "Overall Cond\n",
      "5    56.45\n",
      "6    18.19\n",
      "7    13.31\n",
      "8     4.91\n",
      "4     3.45\n",
      "3     1.71\n",
      "9     1.40\n",
      "2     0.34\n",
      "1     0.24\n",
      "Name: proportion, dtype: float64\n",
      "\n",
      "=== Year Built ===\n",
      "Year Built\n",
      "2005    4.85\n",
      "2006    4.71\n",
      "2007    3.72\n",
      "2004    3.38\n",
      "2003    3.00\n",
      "        ... \n",
      "1893    0.03\n",
      "1911    0.03\n",
      "1906    0.03\n",
      "1879    0.03\n",
      "1913    0.03\n",
      "Name: proportion, Length: 118, dtype: float64\n",
      "\n",
      "=== Year Remod/Add ===\n",
      "Year Remod/Add\n",
      "1950    12.32\n",
      "2006     6.89\n",
      "2007     5.60\n",
      "2005     4.81\n",
      "2004     3.79\n",
      "        ...  \n",
      "2010     0.44\n",
      "1981     0.44\n",
      "1986     0.44\n",
      "1983     0.38\n",
      "1982     0.31\n",
      "Name: proportion, Length: 61, dtype: float64\n",
      "\n",
      "=== Roof Style ===\n",
      "Roof Style\n",
      "Gable      79.22\n",
      "Hip        18.81\n",
      "Gambrel     0.75\n",
      "Flat        0.68\n",
      "Mansard     0.38\n",
      "Shed        0.17\n",
      "Name: proportion, dtype: float64\n",
      "\n",
      "=== Roof Matl ===\n",
      "Roof Matl\n",
      "CompShg    98.53\n",
      "Tar&Grv     0.78\n",
      "WdShake     0.31\n",
      "WdShngl     0.24\n",
      "Membran     0.03\n",
      "ClyTile     0.03\n",
      "Roll        0.03\n",
      "Metal       0.03\n",
      "Name: proportion, dtype: float64\n",
      "\n",
      "=== Exterior 1st ===\n",
      "Exterior 1st\n",
      "VinylSd    35.02\n",
      "MetalSd    15.36\n",
      "HdBoard    15.09\n",
      "Wd Sdng    14.33\n",
      "Plywood     7.54\n",
      "CemntBd     4.30\n",
      "BrkFace     3.00\n",
      "WdShing     1.91\n",
      "AsbShng     1.50\n",
      "Stucco      1.47\n",
      "BrkComm     0.20\n",
      "AsphShn     0.07\n",
      "CBlock      0.07\n",
      "Stone       0.07\n",
      "PreCast     0.03\n",
      "ImStucc     0.03\n",
      "Name: proportion, dtype: float64\n",
      "\n",
      "=== Exterior 2nd ===\n",
      "Exterior 2nd\n",
      "VinylSd    34.64\n",
      "MetalSd    15.26\n",
      "HdBoard    13.86\n",
      "Wd Sdng    13.55\n",
      "Plywood     9.35\n",
      "CmentBd     4.30\n",
      "Wd Shng     2.76\n",
      "BrkFace     1.60\n",
      "Stucco      1.60\n",
      "AsbShng     1.30\n",
      "Brk Cmn     0.75\n",
      "ImStucc     0.51\n",
      "Stone       0.20\n",
      "AsphShn     0.14\n",
      "CBlock      0.10\n",
      "PreCast     0.03\n",
      "Other       0.03\n",
      "Name: proportion, dtype: float64\n",
      "\n",
      "=== Mas Vnr Type ===\n",
      "Mas Vnr Type\n",
      "NaN        60.58\n",
      "BrkFace    30.03\n",
      "Stone       8.50\n",
      "BrkCmn      0.85\n",
      "CBlock      0.03\n",
      "Name: proportion, dtype: float64\n",
      "\n",
      "=== Mas Vnr Area ===\n",
      "Mas Vnr Area\n",
      "0.0      59.66\n",
      "NaN       0.78\n",
      "120.0     0.51\n",
      "176.0     0.44\n",
      "200.0     0.44\n",
      "         ...  \n",
      "291.0     0.03\n",
      "31.0      0.03\n",
      "630.0     0.03\n",
      "382.0     0.03\n",
      "579.0     0.03\n",
      "Name: proportion, Length: 446, dtype: float64\n",
      "\n",
      "=== Exter Qual ===\n",
      "Exter Qual\n",
      "TA    61.40\n",
      "Gd    33.75\n",
      "Ex     3.65\n",
      "Fa     1.19\n",
      "Name: proportion, dtype: float64\n",
      "\n",
      "=== Exter Cond ===\n",
      "Exter Cond\n",
      "TA    87.00\n",
      "Gd    10.20\n",
      "Fa     2.29\n",
      "Ex     0.41\n",
      "Po     0.10\n",
      "Name: proportion, dtype: float64\n",
      "\n",
      "=== Foundation ===\n",
      "Foundation\n",
      "PConc     44.71\n",
      "CBlock    42.46\n",
      "BrkTil    10.61\n",
      "Slab       1.67\n",
      "Stone      0.38\n",
      "Wood       0.17\n",
      "Name: proportion, dtype: float64\n",
      "\n",
      "=== Bsmt Qual ===\n",
      "Bsmt Qual\n",
      "TA            43.79\n",
      "Gd            41.60\n",
      "Ex             8.81\n",
      "Fa             3.00\n",
      "NoBasement     2.73\n",
      "Po             0.07\n",
      "Name: proportion, dtype: float64\n",
      "\n",
      "=== Bsmt Cond ===\n",
      "Bsmt Cond\n",
      "TA            89.28\n",
      "Gd             4.16\n",
      "Fa             3.55\n",
      "NoBasement     2.73\n",
      "Po             0.17\n",
      "Ex             0.10\n",
      "Name: proportion, dtype: float64\n",
      "\n",
      "=== Bsmt Exposure ===\n",
      "Bsmt Exposure\n",
      "No            65.05\n",
      "Av            14.27\n",
      "Gd             9.69\n",
      "Mn             8.16\n",
      "NoBasement     2.83\n",
      "Name: proportion, dtype: float64\n",
      "\n",
      "=== BsmtFin Type 1 ===\n",
      "BsmtFin Type 1\n",
      "GLQ           29.32\n",
      "Unf           29.04\n",
      "ALQ           14.64\n",
      "Rec            9.83\n",
      "BLQ            9.18\n",
      "LwQ            5.26\n",
      "NoBasement     2.73\n",
      "Name: proportion, dtype: float64\n",
      "\n",
      "=== BsmtFin SF 1 ===\n",
      "BsmtFin SF 1\n",
      "0.0       31.74\n",
      "24.0       0.92\n",
      "16.0       0.48\n",
      "300.0      0.31\n",
      "384.0      0.27\n",
      "          ...  \n",
      "853.0      0.03\n",
      "1162.0     0.03\n",
      "475.0      0.03\n",
      "167.0      0.03\n",
      "691.0      0.03\n",
      "Name: proportion, Length: 996, dtype: float64\n",
      "\n",
      "=== BsmtFin Type 2 ===\n",
      "BsmtFin Type 2\n",
      "Unf           85.29\n",
      "Rec            3.62\n",
      "LwQ            3.04\n",
      "NoBasement     2.76\n",
      "BLQ            2.32\n",
      "ALQ            1.81\n",
      "GLQ            1.16\n",
      "Name: proportion, dtype: float64\n",
      "\n",
      "=== BsmtFin SF 2 ===\n",
      "BsmtFin SF 2\n",
      "0.0      87.99\n",
      "294.0     0.17\n",
      "180.0     0.17\n",
      "72.0      0.10\n",
      "147.0     0.10\n",
      "         ...  \n",
      "915.0     0.03\n",
      "472.0     0.03\n",
      "239.0     0.03\n",
      "544.0     0.03\n",
      "396.0     0.03\n",
      "Name: proportion, Length: 275, dtype: float64\n",
      "\n",
      "=== Bsmt Unf SF ===\n",
      "Bsmt Unf SF\n",
      "0.0       8.33\n",
      "384.0     0.65\n",
      "728.0     0.48\n",
      "672.0     0.44\n",
      "600.0     0.41\n",
      "          ... \n",
      "40.0      0.03\n",
      "1308.0    0.03\n",
      "515.0     0.03\n",
      "260.0     0.03\n",
      "1558.0    0.03\n",
      "Name: proportion, Length: 1138, dtype: float64\n",
      "\n",
      "=== Total Bsmt SF ===\n",
      "Total Bsmt SF\n",
      "0.0       2.70\n",
      "864.0     2.53\n",
      "672.0     0.99\n",
      "912.0     0.89\n",
      "1040.0    0.85\n",
      "          ... \n",
      "1451.0    0.03\n",
      "1712.0    0.03\n",
      "745.0     0.03\n",
      "408.0     0.03\n",
      "498.0     0.03\n",
      "Name: proportion, Length: 1059, dtype: float64\n",
      "\n",
      "=== Heating ===\n",
      "Heating\n",
      "GasA     98.46\n",
      "GasW      0.92\n",
      "Grav      0.31\n",
      "Wall      0.20\n",
      "OthW      0.07\n",
      "Floor     0.03\n",
      "Name: proportion, dtype: float64\n",
      "\n",
      "=== Heating QC ===\n",
      "Heating QC\n",
      "Ex    51.02\n",
      "TA    29.49\n",
      "Gd    16.25\n",
      "Fa     3.14\n",
      "Po     0.10\n",
      "Name: proportion, dtype: float64\n",
      "\n",
      "=== Central Air ===\n",
      "Central Air\n",
      "Y    93.31\n",
      "N     6.69\n",
      "Name: proportion, dtype: float64\n",
      "\n",
      "=== Electrical ===\n",
      "Electrical\n",
      "SBrkr    91.54\n",
      "FuseA     6.42\n",
      "FuseF     1.71\n",
      "FuseP     0.27\n",
      "NaN       0.03\n",
      "Mix       0.03\n",
      "Name: proportion, dtype: float64\n",
      "\n",
      "=== 1st Flr SF ===\n",
      "1st Flr SF\n",
      "864     1.57\n",
      "1040    0.96\n",
      "912     0.65\n",
      "816     0.61\n",
      "848     0.61\n",
      "        ... \n",
      "673     0.03\n",
      "1842    0.03\n",
      "2156    0.03\n",
      "898     0.03\n",
      "1043    0.03\n",
      "Name: proportion, Length: 1083, dtype: float64\n",
      "\n",
      "=== 2nd Flr SF ===\n",
      "2nd Flr SF\n",
      "0      57.27\n",
      "546     0.78\n",
      "728     0.61\n",
      "504     0.58\n",
      "600     0.44\n",
      "       ...  \n",
      "518     0.03\n",
      "476     0.03\n",
      "502     0.03\n",
      "867     0.03\n",
      "661     0.03\n",
      "Name: proportion, Length: 635, dtype: float64\n",
      "\n",
      "=== Low Qual Fin SF ===\n",
      "Low Qual Fin SF\n",
      "0       98.63\n",
      "80       0.14\n",
      "360      0.07\n",
      "205      0.07\n",
      "144      0.03\n",
      "362      0.03\n",
      "390      0.03\n",
      "431      0.03\n",
      "120      0.03\n",
      "436      0.03\n",
      "371      0.03\n",
      "1064     0.03\n",
      "259      0.03\n",
      "397      0.03\n",
      "513      0.03\n",
      "312      0.03\n",
      "108      0.03\n",
      "156      0.03\n",
      "697      0.03\n",
      "232      0.03\n",
      "420      0.03\n",
      "384      0.03\n",
      "512      0.03\n",
      "473      0.03\n",
      "114      0.03\n",
      "479      0.03\n",
      "515      0.03\n",
      "528      0.03\n",
      "53       0.03\n",
      "392      0.03\n",
      "572      0.03\n",
      "234      0.03\n",
      "140      0.03\n",
      "450      0.03\n",
      "481      0.03\n",
      "514      0.03\n",
      "Name: proportion, dtype: float64\n",
      "\n",
      "=== Gr Liv Area ===\n",
      "Gr Liv Area\n",
      "864     1.40\n",
      "1092    0.89\n",
      "1040    0.85\n",
      "1456    0.68\n",
      "1200    0.61\n",
      "        ... \n",
      "1708    0.03\n",
      "1669    0.03\n",
      "1184    0.03\n",
      "2230    0.03\n",
      "498     0.03\n",
      "Name: proportion, Length: 1292, dtype: float64\n",
      "\n",
      "=== Bsmt Full Bath ===\n",
      "Bsmt Full Bath\n",
      "0.0    58.26\n",
      "1.0    40.31\n",
      "2.0     1.30\n",
      "3.0     0.07\n",
      "NaN     0.07\n",
      "Name: proportion, dtype: float64\n",
      "\n",
      "=== Bsmt Half Bath ===\n",
      "Bsmt Half Bath\n",
      "0.0    93.96\n",
      "1.0     5.84\n",
      "2.0     0.14\n",
      "NaN     0.07\n",
      "Name: proportion, dtype: float64\n",
      "\n",
      "=== Full Bath ===\n",
      "Full Bath\n",
      "2    52.29\n",
      "1    44.98\n",
      "3     2.18\n",
      "0     0.41\n",
      "4     0.14\n",
      "Name: proportion, dtype: float64\n",
      "\n",
      "=== Half Bath ===\n",
      "Half Bath\n",
      "0    62.90\n",
      "1    36.25\n",
      "2     0.85\n",
      "Name: proportion, dtype: float64\n",
      "\n",
      "=== Bedroom AbvGr ===\n",
      "Bedroom AbvGr\n",
      "3    54.51\n",
      "2    25.36\n",
      "4    13.65\n",
      "1     3.82\n",
      "5     1.64\n",
      "6     0.72\n",
      "0     0.27\n",
      "8     0.03\n",
      "Name: proportion, dtype: float64\n",
      "\n",
      "=== Kitchen AbvGr ===\n",
      "Kitchen AbvGr\n",
      "1    95.43\n",
      "2     4.40\n",
      "0     0.10\n",
      "3     0.07\n",
      "Name: proportion, dtype: float64\n",
      "\n",
      "=== Kitchen Qual ===\n",
      "Kitchen Qual\n",
      "TA    50.99\n",
      "Gd    39.59\n",
      "Ex     7.00\n",
      "Fa     2.39\n",
      "Po     0.03\n",
      "Name: proportion, dtype: float64\n",
      "\n",
      "=== TotRms AbvGrd ===\n",
      "TotRms AbvGrd\n",
      "6     28.81\n",
      "7     22.15\n",
      "5     20.00\n",
      "8     11.84\n",
      "4      6.93\n",
      "9      4.88\n",
      "10     2.73\n",
      "11     1.09\n",
      "3      0.89\n",
      "12     0.55\n",
      "13     0.03\n",
      "2      0.03\n",
      "15     0.03\n",
      "14     0.03\n",
      "Name: proportion, dtype: float64\n",
      "\n",
      "=== Functional ===\n",
      "Functional\n",
      "Typ     93.11\n",
      "Min2     2.39\n",
      "Min1     2.22\n",
      "Mod      1.19\n",
      "Maj1     0.65\n",
      "Maj2     0.31\n",
      "Sev      0.07\n",
      "Sal      0.07\n",
      "Name: proportion, dtype: float64\n",
      "\n",
      "=== Fireplaces ===\n",
      "Fireplaces\n",
      "0    48.53\n",
      "1    43.48\n",
      "2     7.54\n",
      "3     0.41\n",
      "4     0.03\n",
      "Name: proportion, dtype: float64\n",
      "\n",
      "=== Fireplace Qu ===\n",
      "Fireplace Qu\n",
      "NoFireplace    48.53\n",
      "Gd             25.39\n",
      "TA             20.48\n",
      "Fa              2.56\n",
      "Po              1.57\n",
      "Ex              1.47\n",
      "Name: proportion, dtype: float64\n",
      "\n",
      "=== Garage Type ===\n",
      "Garage Type\n",
      "Attchd      59.08\n",
      "Detchd      26.69\n",
      "BuiltIn      6.35\n",
      "NoGarage     5.36\n",
      "Basment      1.23\n",
      "2Types       0.78\n",
      "CarPort      0.51\n",
      "Name: proportion, dtype: float64\n",
      "\n",
      "=== Garage Yr Blt ===\n",
      "Garage Yr Blt\n",
      "NaN       5.43\n",
      "2005.0    4.85\n",
      "2006.0    3.92\n",
      "2007.0    3.92\n",
      "2004.0    3.38\n",
      "          ... \n",
      "1908.0    0.03\n",
      "1933.0    0.03\n",
      "2207.0    0.03\n",
      "1943.0    0.03\n",
      "1919.0    0.03\n",
      "Name: proportion, Length: 104, dtype: float64\n",
      "\n",
      "=== Garage Finish ===\n",
      "Garage Finish\n",
      "Unf         42.01\n",
      "RFn         27.71\n",
      "Fin         24.85\n",
      "NoGarage     5.43\n",
      "Name: proportion, dtype: float64\n",
      "\n",
      "=== Garage Cars ===\n",
      "Garage Cars\n",
      "2.0    54.71\n",
      "1.0    26.55\n",
      "3.0    12.76\n",
      "0.0     5.36\n",
      "4.0     0.55\n",
      "5.0     0.03\n",
      "NaN     0.03\n",
      "Name: proportion, dtype: float64\n",
      "\n",
      "=== Garage Area ===\n",
      "Garage Area\n",
      "0.0      5.36\n",
      "576.0    3.31\n",
      "440.0    3.28\n",
      "484.0    2.59\n",
      "240.0    2.35\n",
      "         ... \n",
      "272.0    0.03\n",
      "327.0    0.03\n",
      "766.0    0.03\n",
      "693.0    0.03\n",
      "405.0    0.03\n",
      "Name: proportion, Length: 604, dtype: float64\n",
      "\n",
      "=== Garage Qual ===\n",
      "Garage Qual\n",
      "TA          89.25\n",
      "NoGarage     5.43\n",
      "Fa           4.23\n",
      "Gd           0.82\n",
      "Po           0.17\n",
      "Ex           0.10\n",
      "Name: proportion, dtype: float64\n",
      "\n",
      "=== Garage Cond ===\n",
      "Garage Cond\n",
      "TA          90.96\n",
      "NoGarage     5.43\n",
      "Fa           2.53\n",
      "Gd           0.51\n",
      "Po           0.48\n",
      "Ex           0.10\n",
      "Name: proportion, dtype: float64\n",
      "\n",
      "=== Paved Drive ===\n",
      "Paved Drive\n",
      "Y    90.51\n",
      "N     7.37\n",
      "P     2.12\n",
      "Name: proportion, dtype: float64\n",
      "\n",
      "=== Wood Deck SF ===\n",
      "Wood Deck SF\n",
      "0      52.08\n",
      "100     2.53\n",
      "192     2.39\n",
      "144     2.08\n",
      "168     1.91\n",
      "       ...  \n",
      "207     0.03\n",
      "530     0.03\n",
      "574     0.03\n",
      "326     0.03\n",
      "728     0.03\n",
      "Name: proportion, Length: 380, dtype: float64\n",
      "\n",
      "=== Open Porch SF ===\n",
      "Open Porch SF\n",
      "0      44.37\n",
      "36      1.77\n",
      "48      1.77\n",
      "40      1.50\n",
      "32      1.30\n",
      "       ...  \n",
      "245     0.03\n",
      "107     0.03\n",
      "225     0.03\n",
      "125     0.03\n",
      "199     0.03\n",
      "Name: proportion, Length: 252, dtype: float64\n",
      "\n",
      "=== Enclosed Porch ===\n",
      "Enclosed Porch\n",
      "0      84.33\n",
      "112     0.75\n",
      "96      0.44\n",
      "144     0.38\n",
      "192     0.34\n",
      "       ...  \n",
      "272     0.03\n",
      "429     0.03\n",
      "67      0.03\n",
      "132     0.03\n",
      "23      0.03\n",
      "Name: proportion, Length: 183, dtype: float64\n",
      "\n",
      "=== 3Ssn Porch ===\n",
      "3Ssn Porch\n",
      "0      98.74\n",
      "168     0.10\n",
      "153     0.10\n",
      "144     0.07\n",
      "216     0.07\n",
      "180     0.07\n",
      "224     0.03\n",
      "255     0.03\n",
      "225     0.03\n",
      "162     0.03\n",
      "360     0.03\n",
      "140     0.03\n",
      "150     0.03\n",
      "508     0.03\n",
      "238     0.03\n",
      "320     0.03\n",
      "182     0.03\n",
      "304     0.03\n",
      "174     0.03\n",
      "96      0.03\n",
      "245     0.03\n",
      "120     0.03\n",
      "407     0.03\n",
      "219     0.03\n",
      "196     0.03\n",
      "176     0.03\n",
      "86      0.03\n",
      "23      0.03\n",
      "290     0.03\n",
      "323     0.03\n",
      "130     0.03\n",
      "Name: proportion, dtype: float64\n",
      "\n",
      "=== Screen Porch ===\n",
      "Screen Porch\n",
      "0      91.26\n",
      "144     0.44\n",
      "192     0.38\n",
      "168     0.34\n",
      "120     0.31\n",
      "       ...  \n",
      "271     0.03\n",
      "312     0.03\n",
      "348     0.03\n",
      "113     0.03\n",
      "104     0.03\n",
      "Name: proportion, Length: 121, dtype: float64\n",
      "\n",
      "=== Pool Area ===\n",
      "Pool Area\n",
      "0      99.56\n",
      "144     0.03\n",
      "480     0.03\n",
      "576     0.03\n",
      "555     0.03\n",
      "368     0.03\n",
      "444     0.03\n",
      "228     0.03\n",
      "561     0.03\n",
      "519     0.03\n",
      "648     0.03\n",
      "800     0.03\n",
      "512     0.03\n",
      "738     0.03\n",
      "Name: proportion, dtype: float64\n",
      "\n",
      "=== Pool QC ===\n",
      "Pool QC\n",
      "NoPool    99.56\n",
      "Ex         0.14\n",
      "Gd         0.14\n",
      "TA         0.10\n",
      "Fa         0.07\n",
      "Name: proportion, dtype: float64\n",
      "\n",
      "=== Fence ===\n",
      "Fence\n",
      "NoFence    80.48\n",
      "MnPrv      11.26\n",
      "GdPrv       4.03\n",
      "GdWo        3.82\n",
      "MnWw        0.41\n",
      "Name: proportion, dtype: float64\n",
      "\n",
      "=== Misc Feature ===\n",
      "Misc Feature\n",
      "NoFeature    96.38\n",
      "Shed          3.24\n",
      "Gar2          0.17\n",
      "Othr          0.14\n",
      "Elev          0.03\n",
      "TenC          0.03\n",
      "Name: proportion, dtype: float64\n",
      "\n",
      "=== Misc Val ===\n",
      "Misc Val\n",
      "0        96.48\n",
      "400       0.61\n",
      "500       0.44\n",
      "450       0.31\n",
      "600       0.27\n",
      "700       0.24\n",
      "2000      0.24\n",
      "650       0.10\n",
      "1200      0.10\n",
      "1500      0.10\n",
      "4500      0.07\n",
      "2500      0.07\n",
      "480       0.07\n",
      "3000      0.07\n",
      "12500     0.03\n",
      "3500      0.03\n",
      "54        0.03\n",
      "80        0.03\n",
      "350       0.03\n",
      "900       0.03\n",
      "490       0.03\n",
      "300       0.03\n",
      "750       0.03\n",
      "800       0.03\n",
      "1400      0.03\n",
      "6500      0.03\n",
      "1000      0.03\n",
      "1150      0.03\n",
      "560       0.03\n",
      "1300      0.03\n",
      "8300      0.03\n",
      "15500     0.03\n",
      "17000     0.03\n",
      "1512      0.03\n",
      "455       0.03\n",
      "460       0.03\n",
      "620       0.03\n",
      "420       0.03\n",
      "Name: proportion, dtype: float64\n",
      "\n",
      "=== Mo Sold ===\n",
      "Mo Sold\n",
      "6     17.24\n",
      "7     15.32\n",
      "5     13.48\n",
      "4      9.52\n",
      "8      7.95\n",
      "3      7.92\n",
      "10     5.90\n",
      "9      5.49\n",
      "11     4.88\n",
      "2      4.54\n",
      "1      4.20\n",
      "12     3.55\n",
      "Name: proportion, dtype: float64\n",
      "\n",
      "=== Yr Sold ===\n",
      "Yr Sold\n",
      "2007    23.69\n",
      "2009    22.12\n",
      "2006    21.33\n",
      "2008    21.23\n",
      "2010    11.64\n",
      "Name: proportion, dtype: float64\n",
      "\n",
      "=== Sale Type ===\n",
      "Sale Type\n",
      "WD       86.55\n",
      "New       8.16\n",
      "COD       2.97\n",
      "ConLD     0.89\n",
      "CWD       0.41\n",
      "ConLI     0.31\n",
      "ConLw     0.27\n",
      "Oth       0.24\n",
      "Con       0.17\n",
      "VWD       0.03\n",
      "Name: proportion, dtype: float64\n",
      "\n",
      "=== Sale Condition ===\n",
      "Sale Condition\n",
      "Normal     82.35\n",
      "Partial     8.36\n",
      "Abnorml     6.48\n",
      "Family      1.57\n",
      "Alloca      0.82\n",
      "AdjLand     0.41\n",
      "Name: proportion, dtype: float64\n",
      "\n",
      "=== SalePrice ===\n",
      "SalePrice\n",
      "135000    1.16\n",
      "140000    1.13\n",
      "130000    0.99\n",
      "155000    0.96\n",
      "145000    0.89\n",
      "          ... \n",
      "164990    0.03\n",
      "117250    0.03\n",
      "97900     0.03\n",
      "35000     0.03\n",
      "138887    0.03\n",
      "Name: proportion, Length: 1032, dtype: float64\n"
     ]
    }
   ],
   "execution_count": 106
  },
  {
   "metadata": {
    "ExecuteTime": {
     "end_time": "2025-10-14T21:17:40.863557Z",
     "start_time": "2025-10-14T21:17:40.578496Z"
    }
   },
   "cell_type": "code",
   "source": [
    "# Basement: says NoBasement but areas > 0\n",
    "mask_no_bsmt = (df['Bsmt Qual'] == 'NoBasement') | (df['Bsmt Cond'] == 'NoBasement') | (df['Bsmt Exposure'] == 'NoBasement')\n",
    "err_bsmt_area = df[ mask_no_bsmt & (df[['BsmtFin SF 1','BsmtFin SF 2','Bsmt Unf SF','Total Bsmt SF']].fillna(0).sum(axis=1) > 0) ]\n",
    "print(\"\\n[Basement] 'NoBasement' but areas > 0:\", len(err_bsmt_area))\n",
    "print(err_bsmt_area[['BsmtFin SF 1','BsmtFin SF 2','Bsmt Unf SF','Total Bsmt SF','Bsmt Qual','Bsmt Cond','Bsmt Exposure']].head())"
   ],
   "id": "abbf6577b71c859d",
   "outputs": [
    {
     "name": "stdout",
     "output_type": "stream",
     "text": [
      "\n",
      "[Basement] 'NoBasement' but areas > 0: 3\n",
      "      BsmtFin SF 1  BsmtFin SF 2  Bsmt Unf SF  Total Bsmt SF Bsmt Qual  \\\n",
      "66             0.0           0.0       1595.0         1595.0        Gd   \n",
      "1796           0.0           0.0        725.0          725.0        Gd   \n",
      "2779           0.0           0.0        936.0          936.0        Gd   \n",
      "\n",
      "     Bsmt Cond Bsmt Exposure  \n",
      "66          TA    NoBasement  \n",
      "1796        TA    NoBasement  \n",
      "2779        TA    NoBasement  \n"
     ]
    }
   ],
   "execution_count": 111
  },
  {
   "metadata": {
    "ExecuteTime": {
     "end_time": "2025-10-14T21:59:19.576001Z",
     "start_time": "2025-10-14T21:59:19.489438Z"
    }
   },
   "cell_type": "code",
   "source": [
    "#todo FLAG solve\n",
    "\n",
    "has_bsmt = (df[['BsmtFin SF 1','BsmtFin SF 2','Bsmt Unf SF','Total Bsmt SF']].fillna(0).sum(axis=1) > 0)\n",
    "bad_expo = has_bsmt & (df['Bsmt Exposure'] == 'NoBasement')\n",
    "\n",
    "df['Fix_BsmtExposure'] = 0\n",
    "df.loc[bad_expo, 'Bsmt Exposure'] = 'No'\n",
    "df.loc[bad_expo, 'Fix_BsmtExposure'] = 1\n"
   ],
   "id": "309d49ec7136440d",
   "outputs": [],
   "execution_count": 139
  },
  {
   "metadata": {
    "ExecuteTime": {
     "end_time": "2025-10-14T21:19:54.876972Z",
     "start_time": "2025-10-14T21:19:54.778803Z"
    }
   },
   "cell_type": "code",
   "source": [
    "# Basement: baths > 0 while NoBasement\n",
    "err_bsmt_baths = df[ mask_no_bsmt & ((df['Bsmt Full Bath'].fillna(0) > 0) | (df['Bsmt Half Bath'].fillna(0) > 0)) ]\n",
    "print(\"\\n[Basement] Baths > 0 while 'NoBasement':\", len(err_bsmt_baths))\n",
    "print(err_bsmt_baths[['Bsmt Full Bath','Bsmt Half Bath','Bsmt Qual']].head())"
   ],
   "id": "6d011917b91f8d10",
   "outputs": [
    {
     "name": "stdout",
     "output_type": "stream",
     "text": [
      "\n",
      "[Basement] Baths > 0 while 'NoBasement': 0\n",
      "Empty DataFrame\n",
      "Columns: [Bsmt Full Bath, Bsmt Half Bath, Bsmt Qual]\n",
      "Index: []\n"
     ]
    }
   ],
   "execution_count": 112
  },
  {
   "metadata": {
    "ExecuteTime": {
     "end_time": "2025-10-14T21:20:06.757369Z",
     "start_time": "2025-10-14T21:20:06.731140Z"
    }
   },
   "cell_type": "code",
   "source": [
    "# Fireplace: 0 but quality set (not 'NoFireplace')\n",
    "err_fire_set = df[(df['Fireplaces'].fillna(0) == 0) & (df['Fireplace Qu'].notna()) & (df['Fireplace Qu'] != 'NoFireplace')]\n",
    "print(\"\\n[Fireplace] Fireplaces == 0 but quality set:\", len(err_fire_set))\n",
    "print(err_fire_set[['Fireplaces','Fireplace Qu']].head())\n"
   ],
   "id": "58ce8bc938350d8c",
   "outputs": [
    {
     "name": "stdout",
     "output_type": "stream",
     "text": [
      "\n",
      "[Fireplace] Fireplaces == 0 but quality set: 0\n",
      "Empty DataFrame\n",
      "Columns: [Fireplaces, Fireplace Qu]\n",
      "Index: []\n"
     ]
    }
   ],
   "execution_count": 113
  },
  {
   "metadata": {
    "ExecuteTime": {
     "end_time": "2025-10-14T21:20:16.700982Z",
     "start_time": "2025-10-14T21:20:16.669073Z"
    }
   },
   "cell_type": "code",
   "source": [
    "# Fireplace: >0 but quality missing or 'NoFireplace'\n",
    "err_fire_missing = df[(df['Fireplaces'].fillna(0) > 0) & (df['Fireplace Qu'].isna() | (df['Fireplace Qu'] == 'NoFireplace'))]\n",
    "print(\"\\n[Fireplace] >0 but quality missing/'NoFireplace':\", len(err_fire_missing))\n",
    "print(err_fire_missing[['Fireplaces','Fireplace Qu']].head())"
   ],
   "id": "2cbba14362f0dca",
   "outputs": [
    {
     "name": "stdout",
     "output_type": "stream",
     "text": [
      "\n",
      "[Fireplace] >0 but quality missing/'NoFireplace': 0\n",
      "Empty DataFrame\n",
      "Columns: [Fireplaces, Fireplace Qu]\n",
      "Index: []\n"
     ]
    }
   ],
   "execution_count": 114
  },
  {
   "metadata": {
    "ExecuteTime": {
     "end_time": "2025-10-14T21:20:33.275498Z",
     "start_time": "2025-10-14T21:20:33.253882Z"
    }
   },
   "cell_type": "code",
   "source": [
    "# Garage: says NoGarage but has info\n",
    "g_no = (df['Garage Type'] == 'NoGarage')\n",
    "err_gar_absent = df[g_no & ((df['Garage Area'].fillna(0) > 0) | (df['Garage Cars'].fillna(0) > 0) |\n",
    "                            (df['Garage Finish'] != 'NoGarage') | (df['Garage Qual'] != 'NoGarage') | (df['Garage Cond'] != 'NoGarage'))]\n",
    "print(\"\\n[Garage] 'NoGarage' but has info:\", len(err_gar_absent))\n",
    "print(err_gar_absent[['Garage Type','Garage Area','Garage Cars','Garage Finish','Garage Qual','Garage Cond']].head())"
   ],
   "id": "ebd097b1de979d07",
   "outputs": [
    {
     "name": "stdout",
     "output_type": "stream",
     "text": [
      "\n",
      "[Garage] 'NoGarage' but has info: 0\n",
      "Empty DataFrame\n",
      "Columns: [Garage Type, Garage Area, Garage Cars, Garage Finish, Garage Qual, Garage Cond]\n",
      "Index: []\n"
     ]
    }
   ],
   "execution_count": 115
  },
  {
   "metadata": {
    "ExecuteTime": {
     "end_time": "2025-10-14T21:20:53.126838Z",
     "start_time": "2025-10-14T21:20:53.093976Z"
    }
   },
   "cell_type": "code",
   "source": [
    "# Garage: has garage but labels are 'NoGarage'\n",
    "g_has = (df['Garage Type'] != 'NoGarage') | (df['Garage Area'].fillna(0) > 0) | (df['Garage Cars'].fillna(0) > 0)\n",
    "err_gar_present = df[g_has & ((df['Garage Finish'] == 'NoGarage') | (df['Garage Qual'] == 'NoGarage') | (df['Garage Cond'] == 'NoGarage'))]\n",
    "print(\"\\n[Garage] Has garage but labels 'NoGarage':\", len(err_gar_present))\n",
    "print(err_gar_present[['Garage Type','Garage Area','Garage Cars','Garage Finish','Garage Qual','Garage Cond']].head())"
   ],
   "id": "a985815b1d632e80",
   "outputs": [
    {
     "name": "stdout",
     "output_type": "stream",
     "text": [
      "\n",
      "[Garage] Has garage but labels 'NoGarage': 2\n",
      "     Garage Type  Garage Area  Garage Cars Garage Finish Garage Qual  \\\n",
      "1356      Detchd        360.0          1.0      NoGarage    NoGarage   \n",
      "2236      Detchd          NaN          NaN      NoGarage    NoGarage   \n",
      "\n",
      "     Garage Cond  \n",
      "1356    NoGarage  \n",
      "2236    NoGarage  \n"
     ]
    }
   ],
   "execution_count": 116
  },
  {
   "metadata": {
    "ExecuteTime": {
     "end_time": "2025-10-14T22:01:17.878816Z",
     "start_time": "2025-10-14T22:01:17.800174Z"
    }
   },
   "cell_type": "code",
   "source": [
    "# todo FLAG solve\n",
    "# 1) rânduri care clar au garaj\n",
    "g_has = (df['Garage Type'] != 'NoGarage') | (df['Garage Area'].fillna(0) > 0) | (df['Garage Cars'].fillna(0) > 0)\n",
    "\n",
    "# 2) modă per tip pentru etichete\n",
    "def mode1(s):\n",
    "    m = s.mode(dropna=True)\n",
    "    return m.iloc[0] if not m.empty else None\n",
    "\n",
    "modes = (\n",
    "    df[g_has]\n",
    "    .groupby('Garage Type')[['Garage Finish','Garage Qual','Garage Cond']]\n",
    "    .agg(mode1)\n",
    ")\n",
    "\n",
    "# 3) mediană per tip pentru numerice\n",
    "med_area = df[g_has].groupby('Garage Type')['Garage Area'].median()\n",
    "med_cars = df[g_has].groupby('Garage Type')['Garage Cars'].median()\n",
    "\n",
    "# flag pentru audit\n",
    "df['Fix_Garage'] = 0\n",
    "\n",
    "# 4) corectează etichetele 'NoGarage' acolo unde există garaj\n",
    "to_fix_labels = g_has & (\n",
    "    (df['Garage Finish'] == 'NoGarage') |\n",
    "    (df['Garage Qual']   == 'NoGarage') |\n",
    "    (df['Garage Cond']   == 'NoGarage')\n",
    ")\n",
    "\n",
    "for col in ['Garage Finish','Garage Qual','Garage Cond']:\n",
    "    fill_vals = df.loc[to_fix_labels, 'Garage Type'].map(modes[col])\n",
    "    need = to_fix_labels & ((df[col] == 'NoGarage') | df[col].isna())\n",
    "    df.loc[need, col] = fill_vals[need]\n",
    "    df.loc[need, 'Fix_Garage'] = 1\n",
    "\n",
    "# 5) completează lipsurile numerice cu mediană per tip\n",
    "miss_area = g_has & df['Garage Area'].isna()\n",
    "df.loc[miss_area, 'Garage Area'] = df.loc[miss_area, 'Garage Type'].map(med_area)\n",
    "df.loc[miss_area, 'Fix_Garage'] = 1\n",
    "\n",
    "miss_cars = g_has & df['Garage Cars'].isna()\n",
    "df.loc[miss_cars, 'Garage Cars'] = df.loc[miss_cars, 'Garage Type'].map(med_cars)\n",
    "df.loc[miss_cars, 'Fix_Garage'] = 1\n",
    "\n",
    "# 6) revalidare rapidă\n",
    "err_after = g_has & (\n",
    "    (df['Garage Finish'] == 'NoGarage') |\n",
    "    (df['Garage Qual']   == 'NoGarage') |\n",
    "    (df['Garage Cond']   == 'NoGarage')\n",
    ")\n",
    "print(\"Remaining garage inconsistencies:\", err_after.sum())\n",
    "\n",
    "print(df.loc[[1356,2236], ['Garage Type','Garage Area','Garage Cars',\n",
    "                           'Garage Finish','Garage Qual','Garage Cond','Fix_Garage']])\n"
   ],
   "id": "2cdb9781283951f1",
   "outputs": [
    {
     "name": "stdout",
     "output_type": "stream",
     "text": [
      "Remaining garage inconsistencies: 0\n",
      "     Garage Type  Garage Area  Garage Cars Garage Finish Garage Qual  \\\n",
      "1356      Detchd        360.0          1.0           Unf          TA   \n",
      "2236      Detchd        400.0          2.0           Unf          TA   \n",
      "\n",
      "     Garage Cond  Fix_Garage  \n",
      "1356          TA           1  \n",
      "2236          TA           1  \n"
     ]
    }
   ],
   "execution_count": 141
  },
  {
   "metadata": {
    "ExecuteTime": {
     "end_time": "2025-10-14T21:21:11.279009Z",
     "start_time": "2025-10-14T21:21:11.258381Z"
    }
   },
   "cell_type": "code",
   "source": [
    "# Pool: area == 0 but QC set (not 'NoPool')\n",
    "err_pool_set = df[(df['Pool Area'].fillna(0) == 0) & (df['Pool QC'].notna()) & (df['Pool QC'] != 'NoPool')]\n",
    "print(\"\\n[Pool] Area == 0 but QC set:\", len(err_pool_set))\n",
    "print(err_pool_set[['Pool Area','Pool QC']].head())"
   ],
   "id": "9abd75e43b44fb82",
   "outputs": [
    {
     "name": "stdout",
     "output_type": "stream",
     "text": [
      "\n",
      "[Pool] Area == 0 but QC set: 0\n",
      "Empty DataFrame\n",
      "Columns: [Pool Area, Pool QC]\n",
      "Index: []\n"
     ]
    }
   ],
   "execution_count": 117
  },
  {
   "metadata": {
    "ExecuteTime": {
     "end_time": "2025-10-14T21:21:21.199812Z",
     "start_time": "2025-10-14T21:21:21.189307Z"
    }
   },
   "cell_type": "code",
   "source": [
    "# Pool: area > 0 but QC missing or 'NoPool'\n",
    "err_pool_missing = df[(df['Pool Area'].fillna(0) > 0) & (df['Pool QC'].isna() | (df['Pool QC'] == 'NoPool'))]\n",
    "print(\"\\n[Pool] Area > 0 but QC missing/'NoPool':\", len(err_pool_missing))\n",
    "print(err_pool_missing[['Pool Area','Pool QC']].head())"
   ],
   "id": "d027533bfa2d7a7b",
   "outputs": [
    {
     "name": "stdout",
     "output_type": "stream",
     "text": [
      "\n",
      "[Pool] Area > 0 but QC missing/'NoPool': 0\n",
      "Empty DataFrame\n",
      "Columns: [Pool Area, Pool QC]\n",
      "Index: []\n"
     ]
    }
   ],
   "execution_count": 118
  },
  {
   "metadata": {
    "ExecuteTime": {
     "end_time": "2025-10-14T21:21:32.634219Z",
     "start_time": "2025-10-14T21:21:32.610876Z"
    }
   },
   "cell_type": "code",
   "source": [
    "# Alley: invalid values (expect only NoAlley/Grvl/Pave)\n",
    "err_alley = df[(df['Alley'].notna()) & (~df['Alley'].isin(['NoAlley','Grvl','Pave']))]\n",
    "print(\"\\n[Alley] Invalid values:\", len(err_alley))\n",
    "print(err_alley[['Alley']].head())"
   ],
   "id": "4aa4e5cb58325b54",
   "outputs": [
    {
     "name": "stdout",
     "output_type": "stream",
     "text": [
      "\n",
      "[Alley] Invalid values: 0\n",
      "Empty DataFrame\n",
      "Columns: [Alley]\n",
      "Index: []\n"
     ]
    }
   ],
   "execution_count": 119
  },
  {
   "metadata": {
    "ExecuteTime": {
     "end_time": "2025-10-14T21:21:43.085699Z",
     "start_time": "2025-10-14T21:21:43.073083Z"
    }
   },
   "cell_type": "code",
   "source": [
    "# NoGarage but 'Garage Yr Blt' set\n",
    "err_gar_year_abs = df[(df['Garage Type'] == 'NoGarage') & (df['Garage Yr Blt'].notna())]\n",
    "print(\"\\n[Garage] NoGarage but 'Garage Yr Blt' set:\", len(err_gar_year_abs))\n",
    "print(err_gar_year_abs[['Garage Type','Garage Yr Blt']].head())"
   ],
   "id": "75718fd015d5a79c",
   "outputs": [
    {
     "name": "stdout",
     "output_type": "stream",
     "text": [
      "\n",
      "[Garage] NoGarage but 'Garage Yr Blt' set: 0\n",
      "Empty DataFrame\n",
      "Columns: [Garage Type, Garage Yr Blt]\n",
      "Index: []\n"
     ]
    }
   ],
   "execution_count": 120
  },
  {
   "metadata": {
    "ExecuteTime": {
     "end_time": "2025-10-14T21:21:58.600415Z",
     "start_time": "2025-10-14T21:21:58.558677Z"
    }
   },
   "cell_type": "code",
   "source": [
    "# ===== 2) DUPLICATES =====\n",
    "\n",
    "dups_pid = df[df['PID'].duplicated(keep=False)].sort_values('PID')\n",
    "print(\"\\n[Duplicates] PID duplicated rows:\", len(dups_pid))\n",
    "print(dups_pid[['PID']].head())"
   ],
   "id": "2b132cc09ec67dc0",
   "outputs": [
    {
     "name": "stdout",
     "output_type": "stream",
     "text": [
      "\n",
      "[Duplicates] PID duplicated rows: 0\n",
      "Empty DataFrame\n",
      "Columns: [PID]\n",
      "Index: []\n"
     ]
    }
   ],
   "execution_count": 121
  },
  {
   "metadata": {
    "ExecuteTime": {
     "end_time": "2025-10-14T21:22:10.295686Z",
     "start_time": "2025-10-14T21:22:10.282570Z"
    }
   },
   "cell_type": "code",
   "source": [
    "dups_order = df[df['Order'].duplicated(keep=False)]\n",
    "print(\"\\n[Duplicates] Order duplicated rows:\", len(dups_order))\n",
    "print(dups_order[['Order']].head())\n"
   ],
   "id": "30101daa0a18a85b",
   "outputs": [
    {
     "name": "stdout",
     "output_type": "stream",
     "text": [
      "\n",
      "[Duplicates] Order duplicated rows: 0\n",
      "Empty DataFrame\n",
      "Columns: [Order]\n",
      "Index: []\n"
     ]
    }
   ],
   "execution_count": 122
  },
  {
   "metadata": {
    "ExecuteTime": {
     "end_time": "2025-10-14T21:22:23.228386Z",
     "start_time": "2025-10-14T21:22:23.193820Z"
    }
   },
   "cell_type": "code",
   "source": [
    "# Total basement should equal sum of parts\n",
    "err_total_bsmt = df[df['Total Bsmt SF'] != (df['BsmtFin SF 1'].fillna(0) + df['BsmtFin SF 2'].fillna(0) + df['Bsmt Unf SF'].fillna(0))]\n",
    "print(\"\\n[Arithmetic] Total Bsmt SF != sum(parts):\", len(err_total_bsmt))\n",
    "print(err_total_bsmt[['BsmtFin SF 1','BsmtFin SF 2','Bsmt Unf SF','Total Bsmt SF']].head())\n"
   ],
   "id": "2bd3ef9b9e6db5bf",
   "outputs": [
    {
     "name": "stdout",
     "output_type": "stream",
     "text": [
      "\n",
      "[Arithmetic] Total Bsmt SF != sum(parts): 1\n",
      "      BsmtFin SF 1  BsmtFin SF 2  Bsmt Unf SF  Total Bsmt SF\n",
      "1341           NaN           NaN          NaN            NaN\n"
     ]
    }
   ],
   "execution_count": 123
  },
  {
   "metadata": {
    "ExecuteTime": {
     "end_time": "2025-10-14T22:07:20.504732Z",
     "start_time": "2025-10-14T22:07:20.449502Z"
    }
   },
   "cell_type": "code",
   "source": [
    "parts = ['BsmtFin SF 1','BsmtFin SF 2','Bsmt Unf SF']\n",
    "total = 'Total Bsmt SF'\n",
    "\n",
    "# helper series\n",
    "sum_parts = df[parts].fillna(0).sum(axis=1)\n",
    "all_parts_na = df[parts].isna().all(axis=1)\n",
    "total_na = df[total].isna()\n",
    "\n",
    "# 1) True mismatch: both sides present but unequal\n",
    "mask_true_mismatch = (~all_parts_na) & (~total_na) & (df[total] != sum_parts)\n",
    "\n",
    "# 2) Total missing but parts present -> compute total\n",
    "mask_total_missing = (~all_parts_na) & (total_na)\n",
    "\n",
    "# 3) Parts all missing but total present -> set parts to 0\n",
    "mask_parts_missing = (all_parts_na) & (~total_na)\n",
    "\n",
    "# 4) All missing (parts and total)\n",
    "mask_all_missing = (all_parts_na) & (total_na)\n",
    "\n",
    "# Optional: detect \"no basement\" via label\n",
    "has_bsmt_label = df['Bsmt Qual'].fillna('NoBasement') != 'NoBasement'\n",
    "mask_no_bsmt = ~has_bsmt_label  # True = NoBasement\n",
    "\n",
    "print(\"[Before] true mismatch:\", mask_true_mismatch.sum())\n",
    "print(\"[Before] total missing (parts exist):\", mask_total_missing.sum())\n",
    "print(\"[Before] parts missing (total exists):\", mask_parts_missing.sum())\n",
    "print(\"[Before] all missing:\", mask_all_missing.sum())\n",
    "\n",
    "# --- FIXES ---\n",
    "\n",
    "# A) True mismatch -> trust arithmetic: set total = sum(parts)\n",
    "df.loc[mask_true_mismatch, total] = sum_parts[mask_true_mismatch]\n",
    "\n",
    "# B) Total missing but parts exist -> set total = sum(parts)\n",
    "df.loc[mask_total_missing, total] = sum_parts[mask_total_missing]\n",
    "\n",
    "# C) Parts missing but total exists -> set parts to 0 (so identity holds)\n",
    "for c in parts:\n",
    "    df.loc[mask_parts_missing, c] = df.loc[mask_parts_missing, c].fillna(0)\n",
    "\n",
    "# D) All missing -> if labeled NoBasement, set everything to 0; else leave NaN (to impute later)\n",
    "to_zero = mask_all_missing & mask_no_bsmt\n",
    "for c in parts + [total]:\n",
    "    df.loc[to_zero, c] = 0  # keep NaN for the others (with basement) to impute later\n",
    "\n",
    "# --- CHECK AGAIN ---\n",
    "sum_parts_after = df[parts].fillna(0).sum(axis=1)\n",
    "bad_after = df[total].fillna(-1) != sum_parts_after.fillna(-1)  # align NaNs for comparison\n",
    "\n",
    "print(\"[After] remaining mismatches:\", bad_after.sum())\n",
    "\n",
    "# Optionally show the row you saw before (e.g., 1341) to confirm\n",
    "# print(df.loc[[1341], parts + [total]])\n"
   ],
   "id": "a3e87ebdd1704168",
   "outputs": [
    {
     "name": "stdout",
     "output_type": "stream",
     "text": [
      "[Before] true mismatch: 0\n",
      "[Before] total missing (parts exist): 0\n",
      "[Before] parts missing (total exists): 0\n",
      "[Before] all missing: 1\n",
      "[After] remaining mismatches: 0\n"
     ]
    }
   ],
   "execution_count": 142
  },
  {
   "metadata": {
    "ExecuteTime": {
     "end_time": "2025-10-14T21:22:36.814748Z",
     "start_time": "2025-10-14T21:22:36.787239Z"
    }
   },
   "cell_type": "code",
   "source": [
    "# Gr Liv Area >= 1st + 2nd floor\n",
    "err_gr = df[df['Gr Liv Area'] < (df['1st Flr SF'].fillna(0) + df['2nd Flr SF'].fillna(0))]\n",
    "print(\"\\n[Arithmetic] Gr Liv Area < 1st + 2nd:\", len(err_gr))\n",
    "print(err_gr[['Gr Liv Area','1st Flr SF','2nd Flr SF']].head())"
   ],
   "id": "16ed4e8870f7444e",
   "outputs": [
    {
     "name": "stdout",
     "output_type": "stream",
     "text": [
      "\n",
      "[Arithmetic] Gr Liv Area < 1st + 2nd: 0\n",
      "Empty DataFrame\n",
      "Columns: [Gr Liv Area, 1st Flr SF, 2nd Flr SF]\n",
      "Index: []\n"
     ]
    }
   ],
   "execution_count": 124
  },
  {
   "metadata": {
    "ExecuteTime": {
     "end_time": "2025-10-14T21:22:50.124891Z",
     "start_time": "2025-10-14T21:22:50.110958Z"
    }
   },
   "cell_type": "code",
   "source": [
    "# Garage capacity coherence (area vs cars)\n",
    "err_gar_cap = df[((df['Garage Cars'].fillna(0) > 0) & (df['Garage Area'].fillna(0) == 0)) |\n",
    "                 ((df['Garage Area'].fillna(0) > 0) & (df['Garage Cars'].fillna(0) == 0))]\n",
    "print(\"\\n[Arithmetic] Garage capacity mismatch (Cars vs Area):\", len(err_gar_cap))\n",
    "print(err_gar_cap[['Garage Cars','Garage Area']].head())"
   ],
   "id": "250c0aef3372a176",
   "outputs": [
    {
     "name": "stdout",
     "output_type": "stream",
     "text": [
      "\n",
      "[Arithmetic] Garage capacity mismatch (Cars vs Area): 0\n",
      "Empty DataFrame\n",
      "Columns: [Garage Cars, Garage Area]\n",
      "Index: []\n"
     ]
    }
   ],
   "execution_count": 125
  },
  {
   "metadata": {
    "ExecuteTime": {
     "end_time": "2025-10-14T21:23:02.198727Z",
     "start_time": "2025-10-14T21:23:02.172980Z"
    }
   },
   "cell_type": "code",
   "source": [
    "# Masonry veneer: type vs area\n",
    "err_mas = df[((df['Mas Vnr Type'] == 'None') & (df['Mas Vnr Area'].fillna(0) > 0)) |\n",
    "             ((df['Mas Vnr Type'] != 'None') & (df['Mas Vnr Area'].fillna(0) == 0))]\n",
    "print(\"\\n[Arithmetic] Masonry veneer inconsistent:\", len(err_mas))\n",
    "print(err_mas[['Mas Vnr Type','Mas Vnr Area']].head())"
   ],
   "id": "66110246d8ad2ba5",
   "outputs": [
    {
     "name": "stdout",
     "output_type": "stream",
     "text": [
      "\n",
      "[Arithmetic] Masonry veneer inconsistent: 1771\n",
      "  Mas Vnr Type  Mas Vnr Area\n",
      "1          NaN           0.0\n",
      "3          NaN           0.0\n",
      "4          NaN           0.0\n",
      "6          NaN           0.0\n",
      "7          NaN           0.0\n"
     ]
    }
   ],
   "execution_count": 126
  },
  {
   "metadata": {
    "ExecuteTime": {
     "end_time": "2025-10-14T22:19:49.460289Z",
     "start_time": "2025-10-14T22:19:49.306883Z"
    }
   },
   "cell_type": "code",
   "source": [
    "#todo FLAG solve\n",
    "\n",
    "# 1) Quick masks\n",
    "area = df['Mas Vnr Area']\n",
    "typ  = df['Mas Vnr Type']\n",
    "\n",
    "m_area0        = area.fillna(0) == 0\n",
    "m_area_pos     = area.fillna(0) > 0\n",
    "m_type_none    = typ == 'None'\n",
    "m_type_na      = typ.isna()\n",
    "m_type_notnone = ~(m_type_none | m_type_na)\n",
    "\n",
    "# 2) See the four meaningful cases\n",
    "print(\"A) type=='None' & area>0:\", (m_type_none & m_area_pos).sum())\n",
    "print(\"B) type not None & area==0:\", (m_type_notnone & m_area0).sum())\n",
    "print(\"C) type is NaN & area==0:\", (m_type_na & m_area0).sum())\n",
    "print(\"D) type is NaN & area>0:\", (m_type_na & m_area_pos).sum())\n",
    "\n",
    "# 3) Fixes\n",
    "\n",
    "# C) Missing type but area is 0 => it's actually 'None'\n",
    "fix_C = m_type_na & m_area0\n",
    "df.loc[fix_C, 'Mas Vnr Type'] = 'None'\n",
    "\n",
    "# B) Type given but area is 0 => make it consistent with \"no veneer\"\n",
    "fix_B = m_type_notnone & m_area0\n",
    "df.loc[fix_B, 'Mas Vnr Type'] = 'None'\n",
    "\n",
    "# A) Type 'None' but area > 0 => we need a real type (impute by Neighborhood mode; fallback global)\n",
    "def mode1(s):\n",
    "    m = s.mode(dropna=True)\n",
    "    return m.iloc[0] if not m.empty else None\n",
    "\n",
    "if 'Neighborhood' in df.columns:\n",
    "    nb_mode = (df[m_area_pos & ~m_type_none & ~m_type_na]  # rows with veneer & known type\n",
    "               .groupby('Neighborhood')['Mas Vnr Type']\n",
    "               .agg(mode1))\n",
    "else:\n",
    "    nb_mode = pd.Series(dtype=object)\n",
    "\n",
    "global_mode = mode1(df['Mas Vnr Type'].dropna())\n",
    "\n",
    "fix_A = m_type_none & m_area_pos\n",
    "if 'Neighborhood' in df.columns:\n",
    "    guess = df.loc[fix_A, 'Neighborhood'].map(nb_mode).fillna(global_mode)\n",
    "else:\n",
    "    guess = pd.Series(global_mode, index=df.index[fix_A])\n",
    "df.loc[fix_A, 'Mas Vnr Type'] = guess\n",
    "\n",
    "# D) Type is NaN but area > 0 => also impute a real type the same way\n",
    "fix_D = m_type_na & m_area_pos\n",
    "if 'Neighborhood' in df.columns:\n",
    "    guess2 = df.loc[fix_D, 'Neighborhood'].map(nb_mode).fillna(global_mode)\n",
    "else:\n",
    "    guess2 = pd.Series(global_mode, index=df.index[fix_D])\n",
    "df.loc[fix_D, 'Mas Vnr Type'] = guess2\n",
    "\n",
    "# 4) Re-check inconsistency\n",
    "err_mas_after = df[((df['Mas Vnr Type'] == 'None') & (df['Mas Vnr Area'].fillna(0) > 0)) |\n",
    "                   ((df['Mas Vnr Type'] != 'None') & (df['Mas Vnr Area'].fillna(0) == 0))]\n",
    "print(\"\\n[After] Masonry veneer inconsistent:\", len(err_mas_after))\n"
   ],
   "id": "a999bc6839e8a239",
   "outputs": [
    {
     "name": "stdout",
     "output_type": "stream",
     "text": [
      "A) type=='None' & area>0: 0\n",
      "B) type not None & area==0: 3\n",
      "C) type is NaN & area==0: 1768\n",
      "D) type is NaN & area>0: 7\n",
      "\n",
      "[After] Masonry veneer inconsistent: 0\n"
     ]
    }
   ],
   "execution_count": 143
  },
  {
   "metadata": {
    "ExecuteTime": {
     "end_time": "2025-10-14T21:23:53.681007Z",
     "start_time": "2025-10-14T21:23:53.667551Z"
    }
   },
   "cell_type": "code",
   "source": [
    "# Rooms: TotRms AbvGrd >= Bedroom AbvGr + Kitchen AbvGr\n",
    "err_rooms = df[df['TotRms AbvGrd'] < (df['Bedroom AbvGr'].fillna(0) + df['Kitchen AbvGr'].fillna(0))]\n",
    "print(\"\\n[Arithmetic] TotRms < Bedroom + Kitchen:\", len(err_rooms))\n",
    "print(err_rooms[['TotRms AbvGrd','Bedroom AbvGr','Kitchen AbvGr']].head())\n"
   ],
   "id": "59a802a173fde070",
   "outputs": [
    {
     "name": "stdout",
     "output_type": "stream",
     "text": [
      "\n",
      "[Arithmetic] TotRms < Bedroom + Kitchen: 0\n",
      "Empty DataFrame\n",
      "Columns: [TotRms AbvGrd, Bedroom AbvGr, Kitchen AbvGr]\n",
      "Index: []\n"
     ]
    }
   ],
   "execution_count": 127
  },
  {
   "metadata": {
    "ExecuteTime": {
     "end_time": "2025-10-14T21:24:56.805213Z",
     "start_time": "2025-10-14T21:24:56.795878Z"
    }
   },
   "cell_type": "code",
   "source": [
    "# Rooms: TotRms AbvGrd >= Bedroom AbvGr + Kitchen AbvGr\n",
    "err_rooms = df[df['TotRms AbvGrd'] < (df['Bedroom AbvGr'].fillna(0) + df['Kitchen AbvGr'].fillna(0))]\n",
    "print(\"\\n[Arithmetic] TotRms < Bedroom + Kitchen:\", len(err_rooms))\n",
    "print(err_rooms[['TotRms AbvGrd','Bedroom AbvGr','Kitchen AbvGr']].head())\n",
    "\n"
   ],
   "id": "68f8e08e2d9d8035",
   "outputs": [
    {
     "name": "stdout",
     "output_type": "stream",
     "text": [
      "\n",
      "[Arithmetic] TotRms < Bedroom + Kitchen: 0\n",
      "Empty DataFrame\n",
      "Columns: [TotRms AbvGrd, Bedroom AbvGr, Kitchen AbvGr]\n",
      "Index: []\n"
     ]
    }
   ],
   "execution_count": 128
  },
  {
   "metadata": {
    "ExecuteTime": {
     "end_time": "2025-10-14T21:25:20.064216Z",
     "start_time": "2025-10-14T21:25:20.042707Z"
    }
   },
   "cell_type": "code",
   "source": [
    "# ===== 4) DOMAIN / RANGE CHECKS =====\n",
    "\n",
    "bad_month = df[~df['Mo Sold'].between(1, 12)]\n",
    "print(\"\\n[Range] Bad month (Mo Sold not in 1..12):\", len(bad_month))\n",
    "print(bad_month[['Mo Sold','Yr Sold']].head())"
   ],
   "id": "f8d542c88fa797a9",
   "outputs": [
    {
     "name": "stdout",
     "output_type": "stream",
     "text": [
      "\n",
      "[Range] Bad month (Mo Sold not in 1..12): 0\n",
      "Empty DataFrame\n",
      "Columns: [Mo Sold, Yr Sold]\n",
      "Index: []\n"
     ]
    }
   ],
   "execution_count": 129
  },
  {
   "metadata": {
    "ExecuteTime": {
     "end_time": "2025-10-14T21:25:28.706779Z",
     "start_time": "2025-10-14T21:25:28.683260Z"
    }
   },
   "cell_type": "code",
   "source": [
    "neg_cols = ['Lot Frontage','Lot Area','Mas Vnr Area','Gr Liv Area','1st Flr SF','2nd Flr SF','Total Bsmt SF','Garage Area','Pool Area','Misc Val']\n",
    "negatives = df[(df[neg_cols].fillna(0) < 0).any(axis=1)]\n",
    "print(\"\\n[Range] Negative metrics found:\", len(negatives))\n",
    "print(negatives[neg_cols].head())\n"
   ],
   "id": "ad6b15eceb13a9ce",
   "outputs": [
    {
     "name": "stdout",
     "output_type": "stream",
     "text": [
      "\n",
      "[Range] Negative metrics found: 0\n",
      "Empty DataFrame\n",
      "Columns: [Lot Frontage, Lot Area, Mas Vnr Area, Gr Liv Area, 1st Flr SF, 2nd Flr SF, Total Bsmt SF, Garage Area, Pool Area, Misc Val]\n",
      "Index: []\n"
     ]
    }
   ],
   "execution_count": 130
  },
  {
   "metadata": {
    "ExecuteTime": {
     "end_time": "2025-10-14T21:25:46.070059Z",
     "start_time": "2025-10-14T21:25:46.057339Z"
    }
   },
   "cell_type": "code",
   "source": [
    "# ===== 5) TIME / CHRONOLOGY =====\n",
    "\n",
    "# Yr Sold should be >= Year Built and >= Year Remod/Add\n",
    "err_years = df[(df['Yr Sold'] < df['Year Built']) | (df['Yr Sold'] < df['Year Remod/Add'])]\n",
    "print(\"\\n[Time] Yr Sold < Year Built or < Year Remod/Add:\", len(err_years))\n",
    "print(err_years[['Yr Sold','Year Built','Year Remod/Add']].head())"
   ],
   "id": "6a48699e3964fece",
   "outputs": [
    {
     "name": "stdout",
     "output_type": "stream",
     "text": [
      "\n",
      "[Time] Yr Sold < Year Built or < Year Remod/Add: 3\n",
      "      Yr Sold  Year Built  Year Remod/Add\n",
      "1702     2007        2007            2008\n",
      "2180     2007        2008            2009\n",
      "2181     2007        2007            2008\n"
     ]
    }
   ],
   "execution_count": 131
  },
  {
   "metadata": {
    "ExecuteTime": {
     "end_time": "2025-10-14T22:26:01.563525Z",
     "start_time": "2025-10-14T22:26:01.488223Z"
    }
   },
   "cell_type": "code",
   "source": [
    "# todo FLAG solve\n",
    "\n",
    "df = df[(df['Yr Sold'] >= df['Year Built']) & (df['Yr Sold'] >= df['Year Remod/Add'])].copy()\n"
   ],
   "id": "b6d62332a851b6e5",
   "outputs": [],
   "execution_count": 144
  },
  {
   "metadata": {
    "ExecuteTime": {
     "end_time": "2025-10-14T21:26:01.273849Z",
     "start_time": "2025-10-14T21:26:01.260160Z"
    }
   },
   "cell_type": "code",
   "source": [
    "# Year Remod/Add should not be < Year Built\n",
    "err_remod_before_built = df[df['Year Remod/Add'] < df['Year Built']]\n",
    "print(\"\\n[Time] Year Remod/Add < Year Built:\", len(err_remod_before_built))\n",
    "print(err_remod_before_built[['Year Built','Year Remod/Add']].head())\n"
   ],
   "id": "60baedc13fdf332c",
   "outputs": [
    {
     "name": "stdout",
     "output_type": "stream",
     "text": [
      "\n",
      "[Time] Year Remod/Add < Year Built: 1\n",
      "     Year Built  Year Remod/Add\n",
      "850        2002            2001\n"
     ]
    }
   ],
   "execution_count": 132
  },
  {
   "metadata": {
    "ExecuteTime": {
     "end_time": "2025-10-14T22:28:24.322216Z",
     "start_time": "2025-10-14T22:28:24.285011Z"
    }
   },
   "cell_type": "code",
   "source": "df = df[df['Year Remod/Add'] >= df['Year Built']].copy()",
   "id": "50c10ddb52e03f18",
   "outputs": [],
   "execution_count": 146
  },
  {
   "metadata": {
    "ExecuteTime": {
     "end_time": "2025-10-14T21:26:13.313241Z",
     "start_time": "2025-10-14T21:26:13.298218Z"
    }
   },
   "cell_type": "code",
   "outputs": [
    {
     "name": "stdout",
     "output_type": "stream",
     "text": [
      "\n",
      "[Time] Garage Yr Blt out of plausible range vs sale: 1\n",
      "      Garage Yr Blt  Yr Sold\n",
      "2260         2207.0     2007\n"
     ]
    }
   ],
   "execution_count": 133,
   "source": [
    "# Garage year out-of-range vs sale (simple heuristic)\n",
    "err_gar_year_out = df[(df['Garage Yr Blt'].notna()) & ((df['Garage Yr Blt'] < 1880) | (df['Garage Yr Blt'] > df['Yr Sold'] + 1))]\n",
    "print(\"\\n[Time] Garage Yr Blt out of plausible range vs sale:\", len(err_gar_year_out))\n",
    "print(err_gar_year_out[['Garage Yr Blt','Yr Sold']].head())"
   ],
   "id": "e096df696439ab00"
  },
  {
   "metadata": {
    "ExecuteTime": {
     "end_time": "2025-10-14T22:31:24.042768Z",
     "start_time": "2025-10-14T22:31:23.994731Z"
    }
   },
   "cell_type": "code",
   "source": "df = df[~(df['Garage Yr Blt'].notna() & ((df['Garage Yr Blt'] < 1880) | (df['Garage Yr Blt'] > df['Yr Sold'] + 1)))].copy()",
   "id": "4994873928d006f3",
   "outputs": [],
   "execution_count": 147
  },
  {
   "metadata": {
    "ExecuteTime": {
     "end_time": "2025-10-14T21:26:24.680686Z",
     "start_time": "2025-10-14T21:26:24.614582Z"
    }
   },
   "cell_type": "code",
   "source": [
    "# Invalid sold date (Mo/Yr)\n",
    "sold_date = pd.to_datetime(dict(year=df['Yr Sold'], month=df['Mo Sold'], day=1), errors='coerce')\n",
    "bad_sold_date = df[sold_date.isna()]\n",
    "print(\"\\n[Time] Bad sold date (invalid Mo/Yr):\", len(bad_sold_date))\n",
    "print(bad_sold_date[['Mo Sold','Yr Sold']].head())"
   ],
   "id": "6c606d457569980a",
   "outputs": [
    {
     "name": "stdout",
     "output_type": "stream",
     "text": [
      "\n",
      "[Time] Bad sold date (invalid Mo/Yr): 0\n",
      "Empty DataFrame\n",
      "Columns: [Mo Sold, Yr Sold]\n",
      "Index: []\n"
     ]
    }
   ],
   "execution_count": 134
  },
  {
   "metadata": {
    "ExecuteTime": {
     "end_time": "2025-10-14T21:26:57.609874Z",
     "start_time": "2025-10-14T21:26:57.592823Z"
    }
   },
   "cell_type": "code",
   "source": [
    "# ===== 6) CATEGORY VALIDATION =====\n",
    "\n",
    "expected_bsmtqual = {'NoBasement','Po','Fa','TA','Gd','Ex'}\n",
    "unexpected_bsmtqual = set(df['Bsmt Qual'].dropna().unique()) - expected_bsmtqual\n",
    "print(\"\\n[Category] Unexpected Bsmt Qual values:\", sorted(unexpected_bsmtqual))"
   ],
   "id": "5f7a8a6d27db0d9",
   "outputs": [
    {
     "name": "stdout",
     "output_type": "stream",
     "text": [
      "\n",
      "[Category] Unexpected Bsmt Qual values: []\n"
     ]
    }
   ],
   "execution_count": 135
  },
  {
   "metadata": {
    "ExecuteTime": {
     "end_time": "2025-10-14T21:27:15.897549Z",
     "start_time": "2025-10-14T21:27:15.861258Z"
    }
   },
   "cell_type": "code",
   "source": [
    "# ===== 7) OUTLIERS (simple sanity) =====\n",
    "#todo IMPORTANT\n",
    "q99_gr = df['Gr Liv Area'].quantile(0.99)\n",
    "suspect_gr = df[df['Gr Liv Area'] > q99_gr]\n",
    "print(\"\\n[Outliers] Gr Liv Area > 99th percentile:\", len(suspect_gr))\n",
    "print(suspect_gr[['Gr Liv Area']].head())"
   ],
   "id": "4558ad1118cffde6",
   "outputs": [
    {
     "name": "stdout",
     "output_type": "stream",
     "text": [
      "\n",
      "[Outliers] Gr Liv Area > 99th percentile: 30\n",
      "     Gr Liv Area\n",
      "15          3279\n",
      "65          3238\n",
      "160         2978\n",
      "253         3222\n",
      "422         3140\n"
     ]
    }
   ],
   "execution_count": 136
  }
 ],
 "metadata": {
  "kernelspec": {
   "display_name": "Python 3",
   "language": "python",
   "name": "python3"
  },
  "language_info": {
   "codemirror_mode": {
    "name": "ipython",
    "version": 2
   },
   "file_extension": ".py",
   "mimetype": "text/x-python",
   "name": "python",
   "nbconvert_exporter": "python",
   "pygments_lexer": "ipython2",
   "version": "2.7.6"
  }
 },
 "nbformat": 4,
 "nbformat_minor": 5
}
