{
 "cells": [
  {
   "cell_type": "code",
   "id": "initial_id",
   "metadata": {
    "collapsed": true,
    "ExecuteTime": {
     "end_time": "2025-10-17T09:33:25.632707Z",
     "start_time": "2025-10-17T09:33:24.540781Z"
    }
   },
   "source": [
    "import pandas as pd\n",
    "import numpy as np\n",
    "import matplotlib.pyplot as plt\n",
    "\n",
    "df = pd.read_csv(\"AmesHousing.csv\", sep=\"\\t\")\n",
    "pd.options.future.infer_string = True\n",
    "\n",
    "print(\"shape:\", df.shape)\n",
    "print(df.head(10))\n",
    "print(df.dtypes.value_counts())\n",
    "\n"
   ],
   "outputs": [
    {
     "name": "stdout",
     "output_type": "stream",
     "text": [
      "shape: (2930, 82)\n",
      "   Order        PID  MS SubClass MS Zoning  Lot Frontage  Lot Area Street  \\\n",
      "0      1  526301100           20        RL         141.0     31770   Pave   \n",
      "1      2  526350040           20        RH          80.0     11622   Pave   \n",
      "2      3  526351010           20        RL          81.0     14267   Pave   \n",
      "3      4  526353030           20        RL          93.0     11160   Pave   \n",
      "4      5  527105010           60        RL          74.0     13830   Pave   \n",
      "5      6  527105030           60        RL          78.0      9978   Pave   \n",
      "6      7  527127150          120        RL          41.0      4920   Pave   \n",
      "7      8  527145080          120        RL          43.0      5005   Pave   \n",
      "8      9  527146030          120        RL          39.0      5389   Pave   \n",
      "9     10  527162130           60        RL          60.0      7500   Pave   \n",
      "\n",
      "  Alley Lot Shape Land Contour  ... Pool Area Pool QC  Fence Misc Feature  \\\n",
      "0   NaN       IR1          Lvl  ...         0     NaN    NaN          NaN   \n",
      "1   NaN       Reg          Lvl  ...         0     NaN  MnPrv          NaN   \n",
      "2   NaN       IR1          Lvl  ...         0     NaN    NaN         Gar2   \n",
      "3   NaN       Reg          Lvl  ...         0     NaN    NaN          NaN   \n",
      "4   NaN       IR1          Lvl  ...         0     NaN  MnPrv          NaN   \n",
      "5   NaN       IR1          Lvl  ...         0     NaN    NaN          NaN   \n",
      "6   NaN       Reg          Lvl  ...         0     NaN    NaN          NaN   \n",
      "7   NaN       IR1          HLS  ...         0     NaN    NaN          NaN   \n",
      "8   NaN       IR1          Lvl  ...         0     NaN    NaN          NaN   \n",
      "9   NaN       Reg          Lvl  ...         0     NaN    NaN          NaN   \n",
      "\n",
      "  Misc Val Mo Sold Yr Sold Sale Type  Sale Condition  SalePrice  \n",
      "0        0       5    2010       WD           Normal     215000  \n",
      "1        0       6    2010       WD           Normal     105000  \n",
      "2    12500       6    2010       WD           Normal     172000  \n",
      "3        0       4    2010       WD           Normal     244000  \n",
      "4        0       3    2010       WD           Normal     189900  \n",
      "5        0       6    2010       WD           Normal     195500  \n",
      "6        0       4    2010       WD           Normal     213500  \n",
      "7        0       1    2010       WD           Normal     191500  \n",
      "8        0       3    2010       WD           Normal     236500  \n",
      "9        0       6    2010       WD           Normal     189000  \n",
      "\n",
      "[10 rows x 82 columns]\n",
      "object     43\n",
      "int64      28\n",
      "float64    11\n",
      "Name: count, dtype: int64\n"
     ]
    }
   ],
   "execution_count": 1
  },
  {
   "metadata": {
    "ExecuteTime": {
     "end_time": "2025-10-17T09:33:25.682064Z",
     "start_time": "2025-10-17T09:33:25.664162Z"
    }
   },
   "cell_type": "code",
   "source": "df.info()",
   "id": "f5ab6d43051e95f9",
   "outputs": [
    {
     "name": "stdout",
     "output_type": "stream",
     "text": [
      "<class 'pandas.core.frame.DataFrame'>\n",
      "RangeIndex: 2930 entries, 0 to 2929\n",
      "Data columns (total 82 columns):\n",
      " #   Column           Non-Null Count  Dtype  \n",
      "---  ------           --------------  -----  \n",
      " 0   Order            2930 non-null   int64  \n",
      " 1   PID              2930 non-null   int64  \n",
      " 2   MS SubClass      2930 non-null   int64  \n",
      " 3   MS Zoning        2930 non-null   object \n",
      " 4   Lot Frontage     2440 non-null   float64\n",
      " 5   Lot Area         2930 non-null   int64  \n",
      " 6   Street           2930 non-null   object \n",
      " 7   Alley            198 non-null    object \n",
      " 8   Lot Shape        2930 non-null   object \n",
      " 9   Land Contour     2930 non-null   object \n",
      " 10  Utilities        2930 non-null   object \n",
      " 11  Lot Config       2930 non-null   object \n",
      " 12  Land Slope       2930 non-null   object \n",
      " 13  Neighborhood     2930 non-null   object \n",
      " 14  Condition 1      2930 non-null   object \n",
      " 15  Condition 2      2930 non-null   object \n",
      " 16  Bldg Type        2930 non-null   object \n",
      " 17  House Style      2930 non-null   object \n",
      " 18  Overall Qual     2930 non-null   int64  \n",
      " 19  Overall Cond     2930 non-null   int64  \n",
      " 20  Year Built       2930 non-null   int64  \n",
      " 21  Year Remod/Add   2930 non-null   int64  \n",
      " 22  Roof Style       2930 non-null   object \n",
      " 23  Roof Matl        2930 non-null   object \n",
      " 24  Exterior 1st     2930 non-null   object \n",
      " 25  Exterior 2nd     2930 non-null   object \n",
      " 26  Mas Vnr Type     1155 non-null   object \n",
      " 27  Mas Vnr Area     2907 non-null   float64\n",
      " 28  Exter Qual       2930 non-null   object \n",
      " 29  Exter Cond       2930 non-null   object \n",
      " 30  Foundation       2930 non-null   object \n",
      " 31  Bsmt Qual        2850 non-null   object \n",
      " 32  Bsmt Cond        2850 non-null   object \n",
      " 33  Bsmt Exposure    2847 non-null   object \n",
      " 34  BsmtFin Type 1   2850 non-null   object \n",
      " 35  BsmtFin SF 1     2929 non-null   float64\n",
      " 36  BsmtFin Type 2   2849 non-null   object \n",
      " 37  BsmtFin SF 2     2929 non-null   float64\n",
      " 38  Bsmt Unf SF      2929 non-null   float64\n",
      " 39  Total Bsmt SF    2929 non-null   float64\n",
      " 40  Heating          2930 non-null   object \n",
      " 41  Heating QC       2930 non-null   object \n",
      " 42  Central Air      2930 non-null   object \n",
      " 43  Electrical       2929 non-null   object \n",
      " 44  1st Flr SF       2930 non-null   int64  \n",
      " 45  2nd Flr SF       2930 non-null   int64  \n",
      " 46  Low Qual Fin SF  2930 non-null   int64  \n",
      " 47  Gr Liv Area      2930 non-null   int64  \n",
      " 48  Bsmt Full Bath   2928 non-null   float64\n",
      " 49  Bsmt Half Bath   2928 non-null   float64\n",
      " 50  Full Bath        2930 non-null   int64  \n",
      " 51  Half Bath        2930 non-null   int64  \n",
      " 52  Bedroom AbvGr    2930 non-null   int64  \n",
      " 53  Kitchen AbvGr    2930 non-null   int64  \n",
      " 54  Kitchen Qual     2930 non-null   object \n",
      " 55  TotRms AbvGrd    2930 non-null   int64  \n",
      " 56  Functional       2930 non-null   object \n",
      " 57  Fireplaces       2930 non-null   int64  \n",
      " 58  Fireplace Qu     1508 non-null   object \n",
      " 59  Garage Type      2773 non-null   object \n",
      " 60  Garage Yr Blt    2771 non-null   float64\n",
      " 61  Garage Finish    2771 non-null   object \n",
      " 62  Garage Cars      2929 non-null   float64\n",
      " 63  Garage Area      2929 non-null   float64\n",
      " 64  Garage Qual      2771 non-null   object \n",
      " 65  Garage Cond      2771 non-null   object \n",
      " 66  Paved Drive      2930 non-null   object \n",
      " 67  Wood Deck SF     2930 non-null   int64  \n",
      " 68  Open Porch SF    2930 non-null   int64  \n",
      " 69  Enclosed Porch   2930 non-null   int64  \n",
      " 70  3Ssn Porch       2930 non-null   int64  \n",
      " 71  Screen Porch     2930 non-null   int64  \n",
      " 72  Pool Area        2930 non-null   int64  \n",
      " 73  Pool QC          13 non-null     object \n",
      " 74  Fence            572 non-null    object \n",
      " 75  Misc Feature     106 non-null    object \n",
      " 76  Misc Val         2930 non-null   int64  \n",
      " 77  Mo Sold          2930 non-null   int64  \n",
      " 78  Yr Sold          2930 non-null   int64  \n",
      " 79  Sale Type        2930 non-null   object \n",
      " 80  Sale Condition   2930 non-null   object \n",
      " 81  SalePrice        2930 non-null   int64  \n",
      "dtypes: float64(11), int64(28), object(43)\n",
      "memory usage: 1.8+ MB\n"
     ]
    }
   ],
   "execution_count": 2
  },
  {
   "metadata": {
    "ExecuteTime": {
     "end_time": "2025-10-17T09:33:25.699458Z",
     "start_time": "2025-10-17T09:33:25.690389Z"
    }
   },
   "cell_type": "code",
   "source": "df.dtypes.value_counts()",
   "id": "19d49dddc89a3304",
   "outputs": [
    {
     "data": {
      "text/plain": [
       "object     43\n",
       "int64      28\n",
       "float64    11\n",
       "Name: count, dtype: int64"
      ]
     },
     "execution_count": 3,
     "metadata": {},
     "output_type": "execute_result"
    }
   ],
   "execution_count": 3
  },
  {
   "metadata": {
    "ExecuteTime": {
     "end_time": "2025-10-17T09:33:25.781546Z",
     "start_time": "2025-10-17T09:33:25.762033Z"
    }
   },
   "cell_type": "code",
   "source": "df.duplicated().any()",
   "id": "d49a6274f97b031f",
   "outputs": [
    {
     "data": {
      "text/plain": [
       "np.False_"
      ]
     },
     "execution_count": 4,
     "metadata": {},
     "output_type": "execute_result"
    }
   ],
   "execution_count": 4
  },
  {
   "metadata": {
    "ExecuteTime": {
     "end_time": "2025-10-17T09:33:25.929431Z",
     "start_time": "2025-10-17T09:33:25.914699Z"
    }
   },
   "cell_type": "code",
   "source": [
    "missing = df.isnull().sum().sort_values(ascending=False).head(30)\n",
    "print(missing)"
   ],
   "id": "b85f2310249f0d3c",
   "outputs": [
    {
     "name": "stdout",
     "output_type": "stream",
     "text": [
      "Pool QC           2917\n",
      "Misc Feature      2824\n",
      "Alley             2732\n",
      "Fence             2358\n",
      "Mas Vnr Type      1775\n",
      "Fireplace Qu      1422\n",
      "Lot Frontage       490\n",
      "Garage Qual        159\n",
      "Garage Yr Blt      159\n",
      "Garage Cond        159\n",
      "Garage Finish      159\n",
      "Garage Type        157\n",
      "Bsmt Exposure       83\n",
      "BsmtFin Type 2      81\n",
      "Bsmt Qual           80\n",
      "Bsmt Cond           80\n",
      "BsmtFin Type 1      80\n",
      "Mas Vnr Area        23\n",
      "Bsmt Full Bath       2\n",
      "Bsmt Half Bath       2\n",
      "Total Bsmt SF        1\n",
      "BsmtFin SF 1         1\n",
      "BsmtFin SF 2         1\n",
      "Garage Area          1\n",
      "Garage Cars          1\n",
      "Bsmt Unf SF          1\n",
      "Electrical           1\n",
      "Lot Shape            0\n",
      "Street               0\n",
      "Lot Area             0\n",
      "dtype: int64\n"
     ]
    }
   ],
   "execution_count": 5
  },
  {
   "metadata": {
    "ExecuteTime": {
     "end_time": "2025-10-17T09:33:26.044692Z",
     "start_time": "2025-10-17T09:33:26.039213Z"
    }
   },
   "cell_type": "code",
   "source": "print(df.columns)",
   "id": "b3431110f070eee0",
   "outputs": [
    {
     "name": "stdout",
     "output_type": "stream",
     "text": [
      "Index(['Order', 'PID', 'MS SubClass', 'MS Zoning', 'Lot Frontage', 'Lot Area',\n",
      "       'Street', 'Alley', 'Lot Shape', 'Land Contour', 'Utilities',\n",
      "       'Lot Config', 'Land Slope', 'Neighborhood', 'Condition 1',\n",
      "       'Condition 2', 'Bldg Type', 'House Style', 'Overall Qual',\n",
      "       'Overall Cond', 'Year Built', 'Year Remod/Add', 'Roof Style',\n",
      "       'Roof Matl', 'Exterior 1st', 'Exterior 2nd', 'Mas Vnr Type',\n",
      "       'Mas Vnr Area', 'Exter Qual', 'Exter Cond', 'Foundation', 'Bsmt Qual',\n",
      "       'Bsmt Cond', 'Bsmt Exposure', 'BsmtFin Type 1', 'BsmtFin SF 1',\n",
      "       'BsmtFin Type 2', 'BsmtFin SF 2', 'Bsmt Unf SF', 'Total Bsmt SF',\n",
      "       'Heating', 'Heating QC', 'Central Air', 'Electrical', '1st Flr SF',\n",
      "       '2nd Flr SF', 'Low Qual Fin SF', 'Gr Liv Area', 'Bsmt Full Bath',\n",
      "       'Bsmt Half Bath', 'Full Bath', 'Half Bath', 'Bedroom AbvGr',\n",
      "       'Kitchen AbvGr', 'Kitchen Qual', 'TotRms AbvGrd', 'Functional',\n",
      "       'Fireplaces', 'Fireplace Qu', 'Garage Type', 'Garage Yr Blt',\n",
      "       'Garage Finish', 'Garage Cars', 'Garage Area', 'Garage Qual',\n",
      "       'Garage Cond', 'Paved Drive', 'Wood Deck SF', 'Open Porch SF',\n",
      "       'Enclosed Porch', '3Ssn Porch', 'Screen Porch', 'Pool Area', 'Pool QC',\n",
      "       'Fence', 'Misc Feature', 'Misc Val', 'Mo Sold', 'Yr Sold', 'Sale Type',\n",
      "       'Sale Condition', 'SalePrice'],\n",
      "      dtype='object')\n"
     ]
    }
   ],
   "execution_count": 6
  },
  {
   "metadata": {
    "ExecuteTime": {
     "end_time": "2025-10-17T09:33:26.092674Z",
     "start_time": "2025-10-17T09:33:26.082119Z"
    }
   },
   "cell_type": "code",
   "source": "df.dtypes",
   "id": "9de53aafe06287a9",
   "outputs": [
    {
     "data": {
      "text/plain": [
       "Order               int64\n",
       "PID                 int64\n",
       "MS SubClass         int64\n",
       "MS Zoning          object\n",
       "Lot Frontage      float64\n",
       "                   ...   \n",
       "Mo Sold             int64\n",
       "Yr Sold             int64\n",
       "Sale Type          object\n",
       "Sale Condition     object\n",
       "SalePrice           int64\n",
       "Length: 82, dtype: object"
      ]
     },
     "execution_count": 7,
     "metadata": {},
     "output_type": "execute_result"
    }
   ],
   "execution_count": 7
  },
  {
   "metadata": {
    "ExecuteTime": {
     "end_time": "2025-10-17T09:33:26.195403Z",
     "start_time": "2025-10-17T09:33:26.164099Z"
    }
   },
   "cell_type": "code",
   "source": [
    "# 2.1) dicționar valori \"nu există\"\n",
    "na_none_map = {\n",
    "    'Alley': 'NoAlley',\n",
    "    'Bsmt Qual': 'NoBasement',\n",
    "    'Bsmt Cond': 'NoBasement',\n",
    "    'Bsmt Exposure': 'NoBasement',\n",
    "    'BsmtFin Type 1': 'NoBasement',\n",
    "    'BsmtFin Type 2': 'NoBasement',\n",
    "    'Fireplace Qu': 'NoFireplace',\n",
    "    'Garage Type': 'NoGarage',\n",
    "    'Garage Finish': 'NoGarage',\n",
    "    'Garage Qual': 'NoGarage',\n",
    "    'Garage Cond': 'NoGarage',\n",
    "    'Pool QC': 'NoPool',\n",
    "    'Fence': 'NoFence',\n",
    "    'Misc Feature': 'NoFeature'\n",
    "}\n",
    "\n",
    "# 2.2) aplicare simplă\n",
    "for col, val in na_none_map.items():\n",
    "    if col in df.columns:\n",
    "        df[col] = df[col].replace('NA', val).fillna(val)\n",
    "\n",
    "print(\"după NA semantice ok\")\n"
   ],
   "id": "bc35d57753657ac5",
   "outputs": [
    {
     "name": "stdout",
     "output_type": "stream",
     "text": [
      "după NA semantice ok\n"
     ]
    }
   ],
   "execution_count": 8
  },
  {
   "metadata": {
    "ExecuteTime": {
     "end_time": "2025-10-17T09:33:26.356283Z",
     "start_time": "2025-10-17T09:33:26.335690Z"
    }
   },
   "cell_type": "code",
   "source": [
    "# 3.1) detectez dacă există subsol din arii\n",
    "has_bsmt_area = (df[['BsmtFin SF 1','BsmtFin SF 2','Bsmt Unf SF','Total Bsmt SF']].fillna(0).sum(axis=1) > 0)\n",
    "\n",
    "# 3.2) dacă are arie, dar 'Bsmt Exposure' este 'NoBasement' => pun 'No'\n",
    "bad_expo = has_bsmt_area & (df['Bsmt Exposure'] == 'NoBasement')\n",
    "df['Fix_BsmtExposure'] = 0\n",
    "df.loc[bad_expo, 'Bsmt Exposure'] = 'No'\n",
    "df.loc[bad_expo, 'Fix_BsmtExposure'] = 1\n",
    "\n",
    "print(\"fix basement exposure:\", df['Fix_BsmtExposure'].sum(), \"rânduri\")\n"
   ],
   "id": "d8e4f045a4ef0866",
   "outputs": [
    {
     "name": "stdout",
     "output_type": "stream",
     "text": [
      "fix basement exposure: 3 rânduri\n"
     ]
    }
   ],
   "execution_count": 9
  },
  {
   "metadata": {
    "ExecuteTime": {
     "end_time": "2025-10-17T09:33:26.515738Z",
     "start_time": "2025-10-17T09:33:26.463493Z"
    }
   },
   "cell_type": "code",
   "source": [
    "# 4.1) rândurile care par să aibă garaj\n",
    "g_has = (df['Garage Type'] != 'NoGarage') | (df['Garage Area'].fillna(0) > 0) | (df['Garage Cars'].fillna(0) > 0)\n",
    "\n",
    "# 4.2) modă per tip (pe fiecare col etichetă)\n",
    "def simple_mode(s):\n",
    "    m = s.mode(dropna=True)\n",
    "    return m.iloc[0] if len(m) else np.nan\n",
    "\n",
    "label_cols = ['Garage Finish','Garage Qual','Garage Cond']\n",
    "modes_by_type = df[g_has].groupby('Garage Type')[label_cols].agg(simple_mode)\n",
    "\n",
    "# 4.3) mediane per tip pentru numerice\n",
    "med_area_by_type = df[g_has].groupby('Garage Type')['Garage Area'].median()\n",
    "med_cars_by_type = df[g_has].groupby('Garage Type')['Garage Cars'].median()\n",
    "\n",
    "# 4.4) repar etichetele \"NoGarage\" la casele care au garaj\n",
    "df['Fix_Garage'] = 0\n",
    "need_fix = g_has & (\n",
    "    (df['Garage Finish'] == 'NoGarage') |\n",
    "    (df['Garage Qual']   == 'NoGarage') |\n",
    "    (df['Garage Cond']   == 'NoGarage')\n",
    ")\n",
    "\n",
    "for c in label_cols:\n",
    "    mask = need_fix & ((df[c] == 'NoGarage') | df[c].isna())\n",
    "    fill_vals = df.loc[mask, 'Garage Type'].map(modes_by_type[c])\n",
    "    df.loc[mask, c] = fill_vals\n",
    "    df.loc[mask, 'Fix_Garage'] = 1\n",
    "\n",
    "# 4.5) completez lipsuri numerice (area, cars) cu mediană pe tip\n",
    "mask_area_na = g_has & df['Garage Area'].isna()\n",
    "mask_cars_na = g_has & df['Garage Cars'].isna()\n",
    "df.loc[mask_area_na, 'Garage Area'] = df.loc[mask_area_na, 'Garage Type'].map(med_area_by_type)\n",
    "df.loc[mask_cars_na, 'Garage Cars'] = df.loc[mask_cars_na, 'Garage Type'].map(med_cars_by_type)\n",
    "df.loc[mask_area_na | mask_cars_na, 'Fix_Garage'] = 1\n",
    "\n",
    "print(\"fix garage:\", df['Fix_Garage'].sum(), \"rânduri\")\n"
   ],
   "id": "644108f8697d8e81",
   "outputs": [
    {
     "name": "stdout",
     "output_type": "stream",
     "text": [
      "fix garage: 2 rânduri\n"
     ]
    }
   ],
   "execution_count": 10
  },
  {
   "metadata": {
    "ExecuteTime": {
     "end_time": "2025-10-17T09:33:26.594510Z",
     "start_time": "2025-10-17T09:33:26.577222Z"
    }
   },
   "cell_type": "code",
   "source": [
    "# 5.1) patru cazuri simple\n",
    "area = df['Mas Vnr Area']\n",
    "typ  = df['Mas Vnr Type']\n",
    "\n",
    "m_area0 = area.fillna(0) == 0\n",
    "m_area_pos = area.fillna(0) > 0\n",
    "m_type_none = typ == 'None'\n",
    "m_type_na = typ.isna()\n",
    "m_type_notnone = ~(m_type_none | m_type_na)\n",
    "\n",
    "# 5.2) cazuri ușoare\n",
    "df.loc[m_type_na & m_area0, 'Mas Vnr Type'] = 'None'\n",
    "df.loc[m_type_notnone & m_area0, 'Mas Vnr Type'] = 'None'\n",
    "\n",
    "# 5.3) trebuie tip când aria > 0 -> modă pe Neighborhood, fallback global\n",
    "global_mode = df['Mas Vnr Type'].dropna().mode()\n",
    "global_mode = global_mode.iloc[0] if len(global_mode) else 'BrkFace'\n",
    "\n",
    "if 'Neighborhood' in df.columns:\n",
    "    ref = df[m_area_pos & ~m_type_none & ~m_type_na]\n",
    "    nb_mode = ref.groupby('Neighborhood')['Mas Vnr Type'].agg(simple_mode)\n",
    "    mask_A = m_type_none & m_area_pos\n",
    "    mask_D = m_type_na   & m_area_pos\n",
    "    df.loc[mask_A, 'Mas Vnr Type'] = df.loc[mask_A, 'Neighborhood'].map(nb_mode).fillna(global_mode)\n",
    "    df.loc[mask_D, 'Mas Vnr Type'] = df.loc[mask_D, 'Neighborhood'].map(nb_mode).fillna(global_mode)\n",
    "else:\n",
    "    df.loc[m_area_pos & (m_type_none | m_type_na), 'Mas Vnr Type'] = global_mode\n",
    "\n",
    "print(\"masonry veneer ok\")\n"
   ],
   "id": "4eb9ee7c4db5a4bd",
   "outputs": [
    {
     "name": "stdout",
     "output_type": "stream",
     "text": [
      "masonry veneer ok\n"
     ]
    }
   ],
   "execution_count": 11
  },
  {
   "metadata": {
    "ExecuteTime": {
     "end_time": "2025-10-17T09:33:26.654356Z",
     "start_time": "2025-10-17T09:33:26.637351Z"
    }
   },
   "cell_type": "code",
   "source": [
    "parts = ['BsmtFin SF 1','BsmtFin SF 2','Bsmt Unf SF']\n",
    "total = 'Total Bsmt SF'\n",
    "\n",
    "sum_parts = df[parts].fillna(0).sum(axis=1)\n",
    "all_parts_na = df[parts].isna().all(axis=1)\n",
    "total_na = df[total].isna()\n",
    "\n",
    "# 6.1) setez total = suma părților când lipsă / diferit\n",
    "mask_true_mismatch = (~all_parts_na) & (~total_na) & (df[total] != sum_parts)\n",
    "mask_total_missing = (~all_parts_na) & total_na\n",
    "df.loc[mask_true_mismatch, total] = sum_parts[mask_true_mismatch]\n",
    "df.loc[mask_total_missing, total] = sum_parts[mask_total_missing]\n",
    "\n",
    "# 6.2) dacă doar părțile lipsesc, dar total există -> pun 0 la părți\n",
    "mask_parts_missing = all_parts_na & (~total_na)\n",
    "for c in parts:\n",
    "    df.loc[mask_parts_missing, c] = df.loc[mask_parts_missing, c].fillna(0)\n",
    "\n",
    "# 6.3) dacă toate lipsesc și eticheta e NoBasement -> pun 0 peste tot\n",
    "mask_all_missing = all_parts_na & total_na & (df['Bsmt Qual'] == 'NoBasement')\n",
    "for c in parts + [total]:\n",
    "    df.loc[mask_all_missing, c] = 0\n",
    "\n",
    "print(\"basement identities ok\")\n"
   ],
   "id": "5a707042b66172d4",
   "outputs": [
    {
     "name": "stdout",
     "output_type": "stream",
     "text": [
      "basement identities ok\n"
     ]
    }
   ],
   "execution_count": 12
  },
  {
   "metadata": {
    "ExecuteTime": {
     "end_time": "2025-10-17T09:33:26.738692Z",
     "start_time": "2025-10-17T09:33:26.686735Z"
    }
   },
   "cell_type": "code",
   "source": [
    "# 7.1) vânzarea trebuie să fie după construit și după remodel\n",
    "mask_time_ok = (df['Yr Sold'] >= df['Year Built']) & (df['Yr Sold'] >= df['Year Remod/Add'])\n",
    "df = df[mask_time_ok].copy()\n",
    "\n",
    "# 7.2) remodel nu poate fi înainte de construit\n",
    "df = df[df['Year Remod/Add'] >= df['Year Built']].copy()\n",
    "\n",
    "# 7.3) anul garajului plauzibil (>=1880 și <= YearSold + 1)\n",
    "mask_gyear_ok = (~df['Garage Yr Blt'].notna()) | (\n",
    "    (df['Garage Yr Blt'] >= 1880) & (df['Garage Yr Blt'] <= (df['Yr Sold'] + 1))\n",
    ")\n",
    "df = df[mask_gyear_ok].copy()\n",
    "\n",
    "print(\"time checks ok; shape:\", df.shape)\n"
   ],
   "id": "6772f4dfd4c8f2e8",
   "outputs": [
    {
     "name": "stdout",
     "output_type": "stream",
     "text": [
      "time checks ok; shape: (2925, 84)\n"
     ]
    }
   ],
   "execution_count": 13
  },
  {
   "metadata": {
    "ExecuteTime": {
     "end_time": "2025-10-17T09:33:26.785064Z",
     "start_time": "2025-10-17T09:33:26.758104Z"
    }
   },
   "cell_type": "code",
   "source": [
    "# 8.1) flags\n",
    "df['HasPool']   = (df['Pool Area'] > 0).astype(int)\n",
    "df['HasFire']   = (df['Fireplaces'] > 0).astype(int)\n",
    "df['HasAC']     = (df['Central Air'] == 'Y').astype(int)\n",
    "df['HasFence']  = (df['Fence'] != 'NoFence').astype(int)\n",
    "df['HasGarage'] = (df['Garage Cars'].fillna(0) > 0).astype(int)\n",
    "df['AmenitiesCount'] = df[['HasPool','HasFire','HasAC','HasFence','HasGarage']].sum(axis=1)\n",
    "\n",
    "# 8.2) log-uri utile\n",
    "for c in ['Lot Area','Gr Liv Area','Total Bsmt SF','1st Flr SF','Garage Area','SalePrice']:\n",
    "    if c in df.columns:\n",
    "        safe = df[c].clip(lower=0)\n",
    "        df[f'log_{c.replace(\" \",\"\").replace(\"/\",\"_\")}'] = np.log1p(safe)\n",
    "\n",
    "print(\"flags + logs ok\")\n"
   ],
   "id": "b628e182baffc623",
   "outputs": [
    {
     "name": "stdout",
     "output_type": "stream",
     "text": [
      "flags + logs ok\n"
     ]
    }
   ],
   "execution_count": 14
  },
  {
   "metadata": {
    "ExecuteTime": {
     "end_time": "2025-10-17T09:33:26.850194Z",
     "start_time": "2025-10-17T09:33:26.818711Z"
    }
   },
   "cell_type": "code",
   "source": [
    "# 9.1) Lot Frontage: mediană pe cartier (fallback mediană globală)\n",
    "if 'Lot Frontage' in df.columns and 'Neighborhood' in df.columns:\n",
    "    med_glob = df['Lot Frontage'].median()\n",
    "    med_nb = df.groupby('Neighborhood')['Lot Frontage'].transform('median')\n",
    "    df['Lot Frontage'] = df['Lot Frontage'].fillna(med_nb).fillna(med_glob)\n",
    "\n",
    "# 9.2) numeric unde NaN = \"nu există\" -> 0 + indicator\n",
    "exist_num = [\n",
    "    'Garage Yr Blt','Garage Area','Garage Cars',\n",
    "    'BsmtFin SF 1','BsmtFin SF 2','Bsmt Unf SF','Total Bsmt SF',\n",
    "    'Bsmt Full Bath','Bsmt Half Bath','Pool Area','Mas Vnr Area'\n",
    "]\n",
    "for c in exist_num:\n",
    "    if c in df.columns:\n",
    "        df[f'{c}_was_missing'] = df[c].isna().astype(int)\n",
    "        df[c] = df[c].fillna(0)\n",
    "\n",
    "# 9.3) restul numericelor -> mediană globală\n",
    "num_cols_all = df.select_dtypes(include=[np.number]).columns\n",
    "for c in num_cols_all:\n",
    "    if df[c].isna().any():\n",
    "        df[c] = df[c].fillna(df[c].median())\n",
    "\n",
    "print(\"imputări ok\")\n"
   ],
   "id": "cbc74662900e3cd",
   "outputs": [
    {
     "name": "stdout",
     "output_type": "stream",
     "text": [
      "imputări ok\n"
     ]
    }
   ],
   "execution_count": 15
  },
  {
   "metadata": {
    "ExecuteTime": {
     "end_time": "2025-10-17T09:33:26.888364Z",
     "start_time": "2025-10-17T09:33:26.869409Z"
    }
   },
   "cell_type": "code",
   "source": [
    "# todo drop PID','Order' after plot\n",
    "\n",
    "to_drop = [\n",
    "    'Utilities','Street','Condition 2','Roof Matl','Heating',  # aproape-constante\n",
    "    'Pool QC','Misc Feature',         # super lipsă (păstrăm HasPool)\n",
    "    'Garage Cond',                    # redundantă cu Garage Qual\n",
    "    'Fix_Garage','Fix_BsmtExposure'   # flaguri de audit\n",
    "]\n",
    "keep = [c for c in to_drop if c in df.columns]\n",
    "df = df.drop(columns=keep).copy()\n",
    "\n",
    "print(\"drop ok. shape:\", df.shape)\n"
   ],
   "id": "27b39f5a6c88b280",
   "outputs": [
    {
     "name": "stdout",
     "output_type": "stream",
     "text": [
      "drop ok. shape: (2925, 97)\n"
     ]
    }
   ],
   "execution_count": 16
  },
  {
   "metadata": {
    "ExecuteTime": {
     "end_time": "2025-10-17T09:33:27.010822Z",
     "start_time": "2025-10-17T09:33:26.929213Z"
    }
   },
   "cell_type": "code",
   "source": [
    "# === 11) Ordinale -> cod numeric + OHE pe nominale + X/y ===\n",
    "\n",
    "# 11.1) definire ordine pentru variabilele ordinale (cu denumirile exacte din dataframe)\n",
    "ord_orders = {\n",
    "    'Exter Qual':    ['Po','Fa','TA','Gd','Ex'],\n",
    "    'Exter Cond':    ['Po','Fa','TA','Gd','Ex'],\n",
    "    'Bsmt Qual':     ['NoBasement','Po','Fa','TA','Gd','Ex'],\n",
    "    'Bsmt Cond':     ['NoBasement','Po','Fa','TA','Gd','Ex'],\n",
    "    'Bsmt Exposure': ['NoBasement','No','Mn','Av','Gd'],\n",
    "    'BsmtFin Type 1':['NoBasement','Unf','LwQ','Rec','BLQ','ALQ','GLQ'],\n",
    "    'BsmtFin Type 2':['NoBasement','Unf','LwQ','Rec','BLQ','ALQ','GLQ'],\n",
    "    'Heating QC':    ['Po','Fa','TA','Gd','Ex'],\n",
    "    'Electrical':    ['FuseP','FuseF','Mix','FuseA','SBrkr'],\n",
    "    'Kitchen Qual':  ['Po','Fa','TA','Gd','Ex'],\n",
    "    'Fireplace Qu':  ['NoFireplace','Po','Fa','TA','Gd','Ex'],\n",
    "    'Garage Finish': ['NoGarage','Unf','RFn','Fin'],\n",
    "    'Garage Qual':   ['NoGarage','Po','Fa','TA','Gd','Ex'],\n",
    "    'Paved Drive':   ['N','P','Y'],\n",
    "    'Lot Shape':     ['IR3','IR2','IR1','Reg'],\n",
    "    'Land Slope':    ['Sev','Mod','Gtl'],\n",
    "    # Dacă vrei și 'Functional', decomentează linia de mai jos și asigură-te că ai coloana:\n",
    "    # 'Functional':    ['Sal','Sev','Maj2','Maj1','Mod','Min2','Min1','Typ'],\n",
    "}\n",
    "\n",
    "# 11.1-bis) mapare efectivă la coduri (−1 -> NaN)\n",
    "for col, order in ord_orders.items():\n",
    "    if col in df.columns:\n",
    "        cat = pd.Categorical(df[col], categories=order, ordered=True)\n",
    "        s = pd.Series(cat.codes, index=df.index).astype('float64')  # array -> Series\n",
    "        s[s == -1] = np.nan                                        # valori în afara listelor -> NaN\n",
    "        df[col] = s\n",
    "\n",
    "# 11.2) One-Hot Encoding pe nominale “pure”\n",
    "ohe_cols = [\n",
    "    'MS SubClass','MS Zoning','Neighborhood','Condition 1','Bldg Type',\n",
    "    'House Style','Roof Style','Exterior 1st','Exterior 2nd','Mas Vnr Type',\n",
    "    'Foundation','Lot Config','Land Contour','Garage Type','Sale Type','Sale Condition'\n",
    "]\n",
    "ohe_cols = [c for c in ohe_cols if c in df.columns]  # păstrează doar ce există\n",
    "\n",
    "# 11.3) construiesc X și y\n",
    "y = df['SalePrice'].astype(float)\n",
    "X = pd.get_dummies(\n",
    "    df.drop(columns=['SalePrice']),\n",
    "    columns=ohe_cols,\n",
    "    drop_first=False,\n",
    "    dtype=int\n",
    ")\n",
    "\n",
    "print(\"X shape:\", X.shape)\n",
    "print(\"y shape:\", y.shape)"
   ],
   "id": "e0c7a0f60c04acb5",
   "outputs": [
    {
     "name": "stdout",
     "output_type": "stream",
     "text": [
      "X shape: (2925, 235)\n",
      "y shape: (2925,)\n"
     ]
    },
    {
     "name": "stderr",
     "output_type": "stream",
     "text": [
      "C:\\Users\\scoti\\PycharmProjects\\ML_Projects\\Lab1_ML\\.venv\\Lib\\site-packages\\pandas\\core\\indexes\\base.py:7697: FutureWarning: Dtype inference on a pandas object (Series, Index, ExtensionArray) is deprecated. The Index constructor will keep the original dtype in the future. Call `infer_objects` on the result to get the old behavior.\n",
      "  return Index(index_like, name=name, copy=copy)\n",
      "C:\\Users\\scoti\\PycharmProjects\\ML_Projects\\Lab1_ML\\.venv\\Lib\\site-packages\\pandas\\core\\indexes\\base.py:7697: FutureWarning: Dtype inference on a pandas object (Series, Index, ExtensionArray) is deprecated. The Index constructor will keep the original dtype in the future. Call `infer_objects` on the result to get the old behavior.\n",
      "  return Index(index_like, name=name, copy=copy)\n",
      "C:\\Users\\scoti\\PycharmProjects\\ML_Projects\\Lab1_ML\\.venv\\Lib\\site-packages\\pandas\\core\\indexes\\base.py:7697: FutureWarning: Dtype inference on a pandas object (Series, Index, ExtensionArray) is deprecated. The Index constructor will keep the original dtype in the future. Call `infer_objects` on the result to get the old behavior.\n",
      "  return Index(index_like, name=name, copy=copy)\n",
      "C:\\Users\\scoti\\PycharmProjects\\ML_Projects\\Lab1_ML\\.venv\\Lib\\site-packages\\pandas\\core\\indexes\\base.py:7697: FutureWarning: Dtype inference on a pandas object (Series, Index, ExtensionArray) is deprecated. The Index constructor will keep the original dtype in the future. Call `infer_objects` on the result to get the old behavior.\n",
      "  return Index(index_like, name=name, copy=copy)\n",
      "C:\\Users\\scoti\\PycharmProjects\\ML_Projects\\Lab1_ML\\.venv\\Lib\\site-packages\\pandas\\core\\indexes\\base.py:7697: FutureWarning: Dtype inference on a pandas object (Series, Index, ExtensionArray) is deprecated. The Index constructor will keep the original dtype in the future. Call `infer_objects` on the result to get the old behavior.\n",
      "  return Index(index_like, name=name, copy=copy)\n",
      "C:\\Users\\scoti\\PycharmProjects\\ML_Projects\\Lab1_ML\\.venv\\Lib\\site-packages\\pandas\\core\\indexes\\base.py:7697: FutureWarning: Dtype inference on a pandas object (Series, Index, ExtensionArray) is deprecated. The Index constructor will keep the original dtype in the future. Call `infer_objects` on the result to get the old behavior.\n",
      "  return Index(index_like, name=name, copy=copy)\n",
      "C:\\Users\\scoti\\PycharmProjects\\ML_Projects\\Lab1_ML\\.venv\\Lib\\site-packages\\pandas\\core\\indexes\\base.py:7697: FutureWarning: Dtype inference on a pandas object (Series, Index, ExtensionArray) is deprecated. The Index constructor will keep the original dtype in the future. Call `infer_objects` on the result to get the old behavior.\n",
      "  return Index(index_like, name=name, copy=copy)\n",
      "C:\\Users\\scoti\\PycharmProjects\\ML_Projects\\Lab1_ML\\.venv\\Lib\\site-packages\\pandas\\core\\indexes\\base.py:7697: FutureWarning: Dtype inference on a pandas object (Series, Index, ExtensionArray) is deprecated. The Index constructor will keep the original dtype in the future. Call `infer_objects` on the result to get the old behavior.\n",
      "  return Index(index_like, name=name, copy=copy)\n",
      "C:\\Users\\scoti\\PycharmProjects\\ML_Projects\\Lab1_ML\\.venv\\Lib\\site-packages\\pandas\\core\\indexes\\base.py:7697: FutureWarning: Dtype inference on a pandas object (Series, Index, ExtensionArray) is deprecated. The Index constructor will keep the original dtype in the future. Call `infer_objects` on the result to get the old behavior.\n",
      "  return Index(index_like, name=name, copy=copy)\n",
      "C:\\Users\\scoti\\PycharmProjects\\ML_Projects\\Lab1_ML\\.venv\\Lib\\site-packages\\pandas\\core\\indexes\\base.py:7697: FutureWarning: Dtype inference on a pandas object (Series, Index, ExtensionArray) is deprecated. The Index constructor will keep the original dtype in the future. Call `infer_objects` on the result to get the old behavior.\n",
      "  return Index(index_like, name=name, copy=copy)\n",
      "C:\\Users\\scoti\\PycharmProjects\\ML_Projects\\Lab1_ML\\.venv\\Lib\\site-packages\\pandas\\core\\indexes\\base.py:7697: FutureWarning: Dtype inference on a pandas object (Series, Index, ExtensionArray) is deprecated. The Index constructor will keep the original dtype in the future. Call `infer_objects` on the result to get the old behavior.\n",
      "  return Index(index_like, name=name, copy=copy)\n",
      "C:\\Users\\scoti\\PycharmProjects\\ML_Projects\\Lab1_ML\\.venv\\Lib\\site-packages\\pandas\\core\\indexes\\base.py:7697: FutureWarning: Dtype inference on a pandas object (Series, Index, ExtensionArray) is deprecated. The Index constructor will keep the original dtype in the future. Call `infer_objects` on the result to get the old behavior.\n",
      "  return Index(index_like, name=name, copy=copy)\n",
      "C:\\Users\\scoti\\PycharmProjects\\ML_Projects\\Lab1_ML\\.venv\\Lib\\site-packages\\pandas\\core\\indexes\\base.py:7697: FutureWarning: Dtype inference on a pandas object (Series, Index, ExtensionArray) is deprecated. The Index constructor will keep the original dtype in the future. Call `infer_objects` on the result to get the old behavior.\n",
      "  return Index(index_like, name=name, copy=copy)\n",
      "C:\\Users\\scoti\\PycharmProjects\\ML_Projects\\Lab1_ML\\.venv\\Lib\\site-packages\\pandas\\core\\indexes\\base.py:7697: FutureWarning: Dtype inference on a pandas object (Series, Index, ExtensionArray) is deprecated. The Index constructor will keep the original dtype in the future. Call `infer_objects` on the result to get the old behavior.\n",
      "  return Index(index_like, name=name, copy=copy)\n",
      "C:\\Users\\scoti\\PycharmProjects\\ML_Projects\\Lab1_ML\\.venv\\Lib\\site-packages\\pandas\\core\\indexes\\base.py:7697: FutureWarning: Dtype inference on a pandas object (Series, Index, ExtensionArray) is deprecated. The Index constructor will keep the original dtype in the future. Call `infer_objects` on the result to get the old behavior.\n",
      "  return Index(index_like, name=name, copy=copy)\n",
      "C:\\Users\\scoti\\PycharmProjects\\ML_Projects\\Lab1_ML\\.venv\\Lib\\site-packages\\pandas\\core\\indexes\\base.py:7697: FutureWarning: Dtype inference on a pandas object (Series, Index, ExtensionArray) is deprecated. The Index constructor will keep the original dtype in the future. Call `infer_objects` on the result to get the old behavior.\n",
      "  return Index(index_like, name=name, copy=copy)\n"
     ]
    }
   ],
   "execution_count": 17
  },
  {
   "metadata": {
    "ExecuteTime": {
     "end_time": "2025-10-17T09:33:27.296775Z",
     "start_time": "2025-10-17T09:33:27.030422Z"
    }
   },
   "cell_type": "code",
   "source": [
    "# 12.1) prag P99 pentru Gr Liv Area și SalePrice\n",
    "p99_area = df['Gr Liv Area'].quantile(0.99)\n",
    "p99_price = df['SalePrice'].quantile(0.99)\n",
    "\n",
    "mask_hp = df['SalePrice'] > p99_price  # outliere de preț (sus)\n",
    "print(\"P99 area:\", round(p99_area,1), \"| P99 price:\", round(p99_price,0), \"| nr out. price:\", int(mask_hp.sum()))\n",
    "\n",
    "# 12.2) scatter cu outlierele colorate diferit\n",
    "plt.figure(figsize=(6,4))\n",
    "plt.scatter(df.loc[~mask_hp,'Gr Liv Area'], df.loc[~mask_hp,'SalePrice'], s=8, alpha=0.5, label='normal')\n",
    "plt.scatter(df.loc[mask_hp,'Gr Liv Area'], df.loc[mask_hp,'SalePrice'], s=18, alpha=0.9, label='price ≥ P99')\n",
    "plt.axhline(p99_price, linestyle='--', linewidth=1)\n",
    "plt.title(\"SalePrice vs Gr Liv Area (outliere pe preț evidențiate)\")\n",
    "plt.xlabel(\"Gr Liv Area\")\n",
    "plt.ylabel(\"SalePrice\")\n",
    "plt.legend()\n",
    "plt.tight_layout()\n",
    "plt.show()\n"
   ],
   "id": "d4853feb7c4ce3a8",
   "outputs": [
    {
     "name": "stdout",
     "output_type": "stream",
     "text": [
      "P99 area: 2872.0 | P99 price: 456784.0 | nr out. price: 30\n"
     ]
    },
    {
     "data": {
      "text/plain": [
       "<Figure size 600x400 with 1 Axes>"
      ],
      "image/png": "[encoded data removed]"
     },
     "metadata": {},
     "output_type": "display_data"
    }
   ],
   "execution_count": 18
  },
  {
   "metadata": {
    "ExecuteTime": {
     "end_time": "2025-10-17T09:56:23.135471Z",
     "start_time": "2025-10-17T09:56:23.115831Z"
    }
   },
   "cell_type": "code",
   "source": [
    "#todo  in progress - outlier handling\n",
    "df['HasPool']   = (df['Pool Area'].fillna(0) > 0).astype(int)\n",
    "df['HasFire']   = (df['Fireplaces'].fillna(0) > 0).astype(int)\n",
    "df['HasAC']     = (df['Central Air'].replace({'Y':1,'N':0}).fillna(0) == 1).astype(int)\n",
    "df['HasFence']  = (df['Fence'].fillna('NoFence') != 'NoFence').astype(int)\n",
    "df['HasGarage'] = (df['Garage Cars'].fillna(0) > 0).astype(int)\n",
    "\n",
    "df['AmenitiesCount'] = df[['HasPool','HasFire','HasAC','HasFence','HasGarage']].sum(axis=1)\n"
   ],
   "id": "ce94eff430579f04",
   "outputs": [
    {
     "name": "stderr",
     "output_type": "stream",
     "text": [
      "C:\\Users\\scoti\\AppData\\Local\\Temp\\ipykernel_19380\\1084699936.py:3: FutureWarning: Downcasting behavior in `replace` is deprecated and will be removed in a future version. To retain the old behavior, explicitly call `result.infer_objects(copy=False)`. To opt-in to the future behavior, set `pd.set_option('future.no_silent_downcasting', True)`\n",
      "  df['HasAC']     = (df['Central Air'].replace({'Y':1,'N':0}).fillna(0) == 1).astype(int)\n"
     ]
    }
   ],
   "execution_count": 29
  },
  {
   "metadata": {
    "ExecuteTime": {
     "end_time": "2025-10-17T09:56:24.144381Z",
     "start_time": "2025-10-17T09:56:24.140585Z"
    }
   },
   "cell_type": "code",
   "source": "",
   "id": "6404d8b84cdb9bd8",
   "outputs": [],
   "execution_count": null
  },
  {
   "metadata": {},
   "cell_type": "code",
   "outputs": [],
   "execution_count": null,
   "source": "",
   "id": "6599da1c3cc36f03"
  }
 ],
 "metadata": {
  "kernelspec": {
   "display_name": "Python 3",
   "language": "python",
   "name": "python3"
  },
  "language_info": {
   "codemirror_mode": {
    "name": "ipython",
    "version": 2
   },
   "file_extension": ".py",
   "mimetype": "text/x-python",
   "name": "python",
   "nbconvert_exporter": "python",
   "pygments_lexer": "ipython2",
   "version": "2.7.6"
  }
 },
 "nbformat": 4,
 "nbformat_minor": 5
}
